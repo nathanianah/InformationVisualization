{
  "nbformat": 4,
  "nbformat_minor": 0,
  "metadata": {
    "kernelspec": {
      "display_name": "Python 3",
      "language": "python",
      "name": "python3"
    },
    "language_info": {
      "codemirror_mode": {
        "name": "ipython",
        "version": 3
      },
      "file_extension": ".py",
      "mimetype": "text/x-python",
      "name": "python",
      "nbconvert_exporter": "python",
      "pygments_lexer": "ipython3",
      "version": "3.7.5"
    },
    "colab": {
      "name": "lab1-pandas.ipynb",
      "provenance": [],
      "collapsed_sections": [],
      "toc_visible": true,
      "include_colab_link": true
    }
  },
  "cells": [
    {
      "cell_type": "markdown",
      "metadata": {
        "id": "view-in-github",
        "colab_type": "text"
      },
      "source": [
        "<a href=\"https://colab.research.google.com/github/nathanianah/InformationVisualization/blob/main/lab1_pandas.ipynb\" target=\"_parent\"><img src=\"https://colab.research.google.com/assets/colab-badge.svg\" alt=\"Open In Colab\"/></a>"
      ]
    },
    {
      "cell_type": "markdown",
      "metadata": {
        "id": "XPZlwZH1hDFK"
      },
      "source": [
        "# Basic data manipulation using Python `pandas`.\n",
        "\n",
        "## Packages\n",
        "\n",
        "- `xlrd`: A package used to load an Excel sheet to Python.  It is required by `pandas` when transforming an Excel sheet to a data frame.\n",
        "\n",
        "- `pandas`: A library to handle table data."
      ]
    },
    {
      "cell_type": "code",
      "metadata": {
        "colab": {
          "base_uri": "https://localhost:8080/"
        },
        "id": "HKTvkvPOJDnf",
        "outputId": "f4f91517-773e-460c-ac75-73791e09d844"
      },
      "source": [
        "# Install the xlrd package.  As it is not included in the Google Colab's standard set of packages.\n",
        "!pip install xlrd\n",
        "\n",
        "from IPython.core.display import display, HTML, Markdown\n",
        "def hr(): display(HTML('<hr/>'))\n",
        "def heading(n, title): display(HTML(f'<h{n}>{title}</h{n}>'))\n",
        "def h1(title): heading(1, title)\n",
        "def h2(title): hr(); heading(2, title)\n",
        "def h3(title): heading(3, title)\n",
        "def paragraph(content): display(HTML(f'<p>{content}</p>'))\n",
        "\n",
        "import pandas as pd\n",
        "pd.options.display.max_rows = 8"
      ],
      "execution_count": 2,
      "outputs": [
        {
          "output_type": "stream",
          "text": [
            "Requirement already satisfied: xlrd in /usr/local/lib/python3.6/dist-packages (1.1.0)\n"
          ],
          "name": "stdout"
        }
      ]
    },
    {
      "cell_type": "markdown",
      "metadata": {
        "id": "ZFv44jF5hDFT"
      },
      "source": [
        "## Python list\n",
        "\n",
        "- l = [0, 1, 2, 3]\n",
        "\n",
        "- l = list(range(20))\n",
        "\n",
        "- `len(l)`: list length\n",
        "\n",
        "<hr/>\n",
        "\n",
        "### Python list is 0-indexed: the first item in a list is referenced by `[0]`\n",
        "- `l[0]`, `l[1]`, `l[9]`: first, second, and tenth items in the list named `l`\n",
        "\n",
        "<hr/>\n",
        "\n",
        "### Slices\n",
        "\n",
        "- `l[0:7]`: First to the seventh items in a list\n",
        "\n",
        "- `l[3:7]`: Forth, fifth, sixth, and seventh items in a list\n",
        "\n",
        "- `l[7:]`: Eighth and after\n",
        "\n",
        "- `l[1::2]`: Every one items from the second\n",
        "\n",
        "- `l[1::3]`: Every two items from the second\n",
        "\n",
        "- `l[3:10:2]`: Every one items from forth upto tenth item\n",
        "\n",
        "- `l[3:10:3]`: Every two items from forth upto tenth\n",
        "\n",
        "<hr/>\n",
        "\n",
        "### $n$-th element to the last\n",
        "\n",
        "- `l[-1]`: The last element\n",
        "\n",
        "- `l[-2]`: The second to the last\n",
        "\n",
        "- `l[-3:]`: The third to the last\n",
        "\n",
        "- `l[-5::2]`: Every one item to the fifth the last (..., l[-9], l[-7], l[-5])\n",
        "\n",
        "- `l[2:-2]`: Every one item from the third to the second the last"
      ]
    },
    {
      "cell_type": "code",
      "metadata": {
        "colab": {
          "base_uri": "https://localhost:8080/",
          "height": 730
        },
        "id": "bET83kTohDFT",
        "outputId": "99cc692d-9de6-488e-b3b5-e21c6e2668b9"
      },
      "source": [
        "h2('List definition')\n",
        "l = [1, 2, 3, 4, 5, 6, 7, 8, 9, 10, 11, 12, 13, 14, 15, 16, 17, 18, 19, 20]\n",
        "print(l)\n",
        "\n",
        "l = list(range(1, 21))\n",
        "print(l)\n",
        "\n",
        "h2('List length')\n",
        "print('len(l):', len(l), '\\n')\n",
        "\n",
        "h2('Referencing a list element')\n",
        "print('l[0]:', l[0])\n",
        "print('l[1]:', l[1])\n",
        "print('l[9]:', l[9])\n",
        "print('l[19]:', l[19])\n",
        "\n",
        "h2('Referencing a subsequence of the list')\n",
        "print('l[0:7]:', l[0:7])\n",
        "print('l[3:7]:', l[3:7])\n",
        "print('l[7:]:', l[7:], '\\n')\n",
        "\n",
        "h2('Skipping')\n",
        "print('l[3:10:2]:', l[3:10:2])\n",
        "print('l[3:10:3]:', l[3:10:3])\n",
        "print('l[1::2]:', l[1::2])\n",
        "print('l[1::3]:', l[1::3], '\\n')\n",
        "\n",
        "h2('From the end of the list')\n",
        "print('l[-1]:', l[-1])\n",
        "print('l[-2]:', l[-2])\n",
        "print('l[-3:]:', l[-3:])\n",
        "print('l[-5::2]:', l[-5::2])\n",
        "print('l[2:-2]:', l[2:-2])"
      ],
      "execution_count": 3,
      "outputs": [
        {
          "output_type": "display_data",
          "data": {
            "text/html": [
              "<hr/>"
            ],
            "text/plain": [
              "<IPython.core.display.HTML object>"
            ]
          },
          "metadata": {
            "tags": []
          }
        },
        {
          "output_type": "display_data",
          "data": {
            "text/html": [
              "<h2>List definition</h2>"
            ],
            "text/plain": [
              "<IPython.core.display.HTML object>"
            ]
          },
          "metadata": {
            "tags": []
          }
        },
        {
          "output_type": "stream",
          "text": [
            "[1, 2, 3, 4, 5, 6, 7, 8, 9, 10, 11, 12, 13, 14, 15, 16, 17, 18, 19, 20]\n",
            "[1, 2, 3, 4, 5, 6, 7, 8, 9, 10, 11, 12, 13, 14, 15, 16, 17, 18, 19, 20]\n"
          ],
          "name": "stdout"
        },
        {
          "output_type": "display_data",
          "data": {
            "text/html": [
              "<hr/>"
            ],
            "text/plain": [
              "<IPython.core.display.HTML object>"
            ]
          },
          "metadata": {
            "tags": []
          }
        },
        {
          "output_type": "display_data",
          "data": {
            "text/html": [
              "<h2>List length</h2>"
            ],
            "text/plain": [
              "<IPython.core.display.HTML object>"
            ]
          },
          "metadata": {
            "tags": []
          }
        },
        {
          "output_type": "stream",
          "text": [
            "len(l): 20 \n",
            "\n"
          ],
          "name": "stdout"
        },
        {
          "output_type": "display_data",
          "data": {
            "text/html": [
              "<hr/>"
            ],
            "text/plain": [
              "<IPython.core.display.HTML object>"
            ]
          },
          "metadata": {
            "tags": []
          }
        },
        {
          "output_type": "display_data",
          "data": {
            "text/html": [
              "<h2>Referencing a list element</h2>"
            ],
            "text/plain": [
              "<IPython.core.display.HTML object>"
            ]
          },
          "metadata": {
            "tags": []
          }
        },
        {
          "output_type": "stream",
          "text": [
            "l[0]: 1\n",
            "l[1]: 2\n",
            "l[9]: 10\n",
            "l[19]: 20\n"
          ],
          "name": "stdout"
        },
        {
          "output_type": "display_data",
          "data": {
            "text/html": [
              "<hr/>"
            ],
            "text/plain": [
              "<IPython.core.display.HTML object>"
            ]
          },
          "metadata": {
            "tags": []
          }
        },
        {
          "output_type": "display_data",
          "data": {
            "text/html": [
              "<h2>Referencing a subsequence of the list</h2>"
            ],
            "text/plain": [
              "<IPython.core.display.HTML object>"
            ]
          },
          "metadata": {
            "tags": []
          }
        },
        {
          "output_type": "stream",
          "text": [
            "l[0:7]: [1, 2, 3, 4, 5, 6, 7]\n",
            "l[3:7]: [4, 5, 6, 7]\n",
            "l[7:]: [8, 9, 10, 11, 12, 13, 14, 15, 16, 17, 18, 19, 20] \n",
            "\n"
          ],
          "name": "stdout"
        },
        {
          "output_type": "display_data",
          "data": {
            "text/html": [
              "<hr/>"
            ],
            "text/plain": [
              "<IPython.core.display.HTML object>"
            ]
          },
          "metadata": {
            "tags": []
          }
        },
        {
          "output_type": "display_data",
          "data": {
            "text/html": [
              "<h2>Skipping</h2>"
            ],
            "text/plain": [
              "<IPython.core.display.HTML object>"
            ]
          },
          "metadata": {
            "tags": []
          }
        },
        {
          "output_type": "stream",
          "text": [
            "l[3:10:2]: [4, 6, 8, 10]\n",
            "l[3:10:3]: [4, 7, 10]\n",
            "l[1::2]: [2, 4, 6, 8, 10, 12, 14, 16, 18, 20]\n",
            "l[1::3]: [2, 5, 8, 11, 14, 17, 20] \n",
            "\n"
          ],
          "name": "stdout"
        },
        {
          "output_type": "display_data",
          "data": {
            "text/html": [
              "<hr/>"
            ],
            "text/plain": [
              "<IPython.core.display.HTML object>"
            ]
          },
          "metadata": {
            "tags": []
          }
        },
        {
          "output_type": "display_data",
          "data": {
            "text/html": [
              "<h2>From the end of the list</h2>"
            ],
            "text/plain": [
              "<IPython.core.display.HTML object>"
            ]
          },
          "metadata": {
            "tags": []
          }
        },
        {
          "output_type": "stream",
          "text": [
            "l[-1]: 20\n",
            "l[-2]: 19\n",
            "l[-3:]: [18, 19, 20]\n",
            "l[-5::2]: [16, 18, 20]\n",
            "l[2:-2]: [3, 4, 5, 6, 7, 8, 9, 10, 11, 12, 13, 14, 15, 16, 17, 18]\n"
          ],
          "name": "stdout"
        }
      ]
    },
    {
      "cell_type": "markdown",
      "metadata": {
        "id": "QSE8V9T_hDFU"
      },
      "source": [
        "## Loading an Excel sheet from GitHub repository\n",
        "\n",
        "We use `pandas.read_excel` function to load a [Social Progress Index (SPI)](https://www.socialprogress.org) dataset stored in a GitHub repository.  Loading from a GitHub repository is the easiest to provide data to Google Colaboratory.  There are a few other means.  Find more [in this article](https://towardsdatascience.com/3-ways-to-load-csv-files-into-colab-7c14fcbdcb92).\n",
        "\n",
        "This dataset contains multiple sheet.  We are interested in a sheet named `2019`.\n",
        "\n",
        "The `pandas.read_excel` function converts the Excel sheet into a data structure called **Pandas data frame**.  A data frame offers many useful statistic analysis tools.\n",
        "\n",
        "The `display` function from IPython package beautifully render the content of the sheet."
      ]
    },
    {
      "cell_type": "code",
      "metadata": {
        "id": "iszAeH5UhDFU",
        "colab": {
          "base_uri": "https://localhost:8080/",
          "height": 722
        },
        "outputId": "4db6b2b7-184d-4573-dc4e-451857b6e24f"
      },
      "source": [
        "h2('Upload an Excel sheet from a GitHub repository and convert to a dataframe.')\n",
        "spi2019 = pd.read_excel('https://github.com/wakita/y20-vis/blob/master/docs/data/spi2019.xlsx?raw=true',\n",
        "                      sheet_name='2019')\n",
        "display(spi2019)\n",
        "\n",
        "h2('Indices')\n",
        "indices = list(spi2019.keys())\n",
        "print(indices)"
      ],
      "execution_count": 4,
      "outputs": [
        {
          "output_type": "display_data",
          "data": {
            "text/html": [
              "<hr/>"
            ],
            "text/plain": [
              "<IPython.core.display.HTML object>"
            ]
          },
          "metadata": {
            "tags": []
          }
        },
        {
          "output_type": "display_data",
          "data": {
            "text/html": [
              "<h2>Upload an Excel sheet from a GitHub repository and convert to a dataframe.</h2>"
            ],
            "text/plain": [
              "<IPython.core.display.HTML object>"
            ]
          },
          "metadata": {
            "tags": []
          }
        },
        {
          "output_type": "display_data",
          "data": {
            "text/html": [
              "<div>\n",
              "<style scoped>\n",
              "    .dataframe tbody tr th:only-of-type {\n",
              "        vertical-align: middle;\n",
              "    }\n",
              "\n",
              "    .dataframe tbody tr th {\n",
              "        vertical-align: top;\n",
              "    }\n",
              "\n",
              "    .dataframe thead th {\n",
              "        text-align: right;\n",
              "    }\n",
              "</style>\n",
              "<table border=\"1\" class=\"dataframe\">\n",
              "  <thead>\n",
              "    <tr style=\"text-align: right;\">\n",
              "      <th></th>\n",
              "      <th>2019 ranking</th>\n",
              "      <th>Country</th>\n",
              "      <th>Code</th>\n",
              "      <th>Status</th>\n",
              "      <th>Social Progress Index</th>\n",
              "      <th>Basic Human Needs</th>\n",
              "      <th>Foundations of Wellbeing</th>\n",
              "      <th>Opportunity</th>\n",
              "      <th>Nutrition and Basic Medical Care</th>\n",
              "      <th>Water and Sanitation</th>\n",
              "      <th>Shelter</th>\n",
              "      <th>Personal Safety</th>\n",
              "      <th>Access to Basic Knowledge</th>\n",
              "      <th>Access to Information and Communications</th>\n",
              "      <th>Health and Wellness</th>\n",
              "      <th>Environmental Quality</th>\n",
              "      <th>Personal Rights</th>\n",
              "      <th>Personal Freedom and Choice</th>\n",
              "      <th>Inclusiveness</th>\n",
              "      <th>Access to Advanced Education</th>\n",
              "      <th>Undernourishment (% of pop.)</th>\n",
              "      <th>Maternal mortality rate (deaths/100,000 live births)</th>\n",
              "      <th>Child mortality rate (deaths/1,000 live births)</th>\n",
              "      <th>Child stunting (% of children)</th>\n",
              "      <th>Deaths from infectious diseases (deaths/100,000 people)</th>\n",
              "      <th>Access to at least basic drinking water (% of pop.)</th>\n",
              "      <th>Access to piped water (% of pop.)</th>\n",
              "      <th>Access to at least basic sanitation facilities (% of pop.)</th>\n",
              "      <th>Rural open defecation (% of pop.)</th>\n",
              "      <th>Access to electricity (% of pop.)</th>\n",
              "      <th>Quality of electricity supply (1=low; 7=high)</th>\n",
              "      <th>Household air pollution attributable deaths (deaths/100,000 people)</th>\n",
              "      <th>Access to clean fuels and technology for cooking (% of pop.)</th>\n",
              "      <th>Homicide rate (deaths/100,000 people)</th>\n",
              "      <th>Perceived criminality (1=low; 5=high)</th>\n",
              "      <th>Political killings and torture (0=low freedom; 1=high freedom)</th>\n",
              "      <th>Traffic deaths (deaths/100,000 people)</th>\n",
              "      <th>Adult literacy rate (% of pop. aged 15+)</th>\n",
              "      <th>Primary school enrollment (% of children)</th>\n",
              "      <th>Secondary school enrollment (% of children)</th>\n",
              "      <th>Gender parity in secondary enrollment (distance from parity)</th>\n",
              "      <th>Access to quality education (0=unequal; 4=equal)</th>\n",
              "      <th>Mobile telephone subscriptions (subscriptions/100 people)</th>\n",
              "      <th>Internet users (% of pop.)</th>\n",
              "      <th>Access to online governance (0=low; 1=high)</th>\n",
              "      <th>Media censorship (0=frequent; 4=rare)</th>\n",
              "      <th>Life expectancy at 60 (years)</th>\n",
              "      <th>Premature deaths from non-communicable diseases (deaths/100,000 people)</th>\n",
              "      <th>Access to essential services  (0=none; 100=full coverage)</th>\n",
              "      <th>Access to quality healthcare (0=unequal; 4=equal)</th>\n",
              "      <th>Outdoor air pollution attributable deaths (deaths/100,000 people)</th>\n",
              "      <th>Greenhouse gas emissions (CO2 equivalents/GDP)</th>\n",
              "      <th>Biome protection</th>\n",
              "      <th>Political rights (0=no rights; 40=full rights)</th>\n",
              "      <th>Freedom of expression (0=no freedom; 1=full freedom)</th>\n",
              "      <th>Freedom of religion (0=no freedom; 4=full freedom)</th>\n",
              "      <th>Access to justice (0=non-existent; 1=observed)</th>\n",
              "      <th>Property rights for women (0=no rights; 5=full rights)</th>\n",
              "      <th>Vulnerable employment (% of employees)</th>\n",
              "      <th>Early marriage (% of women)</th>\n",
              "      <th>Satisfied demand for contraception (% of women)</th>\n",
              "      <th>Corruption (0=high; 100=low)</th>\n",
              "      <th>Acceptance of gays and lesbians (0=low; 100=high)</th>\n",
              "      <th>Discrimination and violence against minorities (1=low; 10=high)</th>\n",
              "      <th>Equality of political power by gender (0=unequal power; 4=equal power)</th>\n",
              "      <th>Equality of political power by socioeconomic position (0=unequal power; 4=equal power)</th>\n",
              "      <th>Equality of political power by social group (0=unequal power; 4=equal power)</th>\n",
              "      <th>Years of tertiary schooling</th>\n",
              "      <th>Women's average years in school</th>\n",
              "      <th>Globally ranked universities (points)</th>\n",
              "      <th>Percent of tertiary students enrolled in globally ranked universities</th>\n",
              "    </tr>\n",
              "  </thead>\n",
              "  <tbody>\n",
              "    <tr>\n",
              "      <th>0</th>\n",
              "      <td>NaN</td>\n",
              "      <td>World</td>\n",
              "      <td>WWW</td>\n",
              "      <td>NaN</td>\n",
              "      <td>64.47</td>\n",
              "      <td>74.40</td>\n",
              "      <td>67.50</td>\n",
              "      <td>51.52</td>\n",
              "      <td>82.86</td>\n",
              "      <td>76.95</td>\n",
              "      <td>75.99</td>\n",
              "      <td>61.82</td>\n",
              "      <td>79.51</td>\n",
              "      <td>71.74</td>\n",
              "      <td>59.89</td>\n",
              "      <td>58.86</td>\n",
              "      <td>61.44</td>\n",
              "      <td>60.55</td>\n",
              "      <td>41.51</td>\n",
              "      <td>42.59</td>\n",
              "      <td>11.13504</td>\n",
              "      <td>102.519057</td>\n",
              "      <td>28.722685</td>\n",
              "      <td>22.69016</td>\n",
              "      <td>133.02429</td>\n",
              "      <td>89.52504</td>\n",
              "      <td>63.251892</td>\n",
              "      <td>73.313587</td>\n",
              "      <td>13.428853</td>\n",
              "      <td>88.712554</td>\n",
              "      <td>4.55010</td>\n",
              "      <td>32.204590</td>\n",
              "      <td>59.332762</td>\n",
              "      <td>5.318237</td>\n",
              "      <td>3.631457</td>\n",
              "      <td>0.558405</td>\n",
              "      <td>18.058399</td>\n",
              "      <td>83.454437</td>\n",
              "      <td>94.33458</td>\n",
              "      <td>70.674528</td>\n",
              "      <td>0.992007</td>\n",
              "      <td>1.645267</td>\n",
              "      <td>102.847521</td>\n",
              "      <td>48.150264</td>\n",
              "      <td>0.773022</td>\n",
              "      <td>1.847094</td>\n",
              "      <td>20.154669</td>\n",
              "      <td>399.167321</td>\n",
              "      <td>68.520544</td>\n",
              "      <td>1.706815</td>\n",
              "      <td>42.178275</td>\n",
              "      <td>483.64126</td>\n",
              "      <td>10.400444</td>\n",
              "      <td>20.013264</td>\n",
              "      <td>0.559827</td>\n",
              "      <td>2.415574</td>\n",
              "      <td>0.600322</td>\n",
              "      <td>3.808346</td>\n",
              "      <td>46.848182</td>\n",
              "      <td>13.407959</td>\n",
              "      <td>72.837477</td>\n",
              "      <td>40.415055</td>\n",
              "      <td>31.846298</td>\n",
              "      <td>7.270748</td>\n",
              "      <td>1.906457</td>\n",
              "      <td>1.8048</td>\n",
              "      <td>1.889693</td>\n",
              "      <td>2.039145</td>\n",
              "      <td>7.381189</td>\n",
              "      <td>71.167847</td>\n",
              "      <td>13.290866</td>\n",
              "    </tr>\n",
              "    <tr>\n",
              "      <th>1</th>\n",
              "      <td>143.0</td>\n",
              "      <td>Afghanistan</td>\n",
              "      <td>AFG</td>\n",
              "      <td>Ranked</td>\n",
              "      <td>38.60</td>\n",
              "      <td>51.72</td>\n",
              "      <td>38.91</td>\n",
              "      <td>25.17</td>\n",
              "      <td>58.74</td>\n",
              "      <td>49.48</td>\n",
              "      <td>51.82</td>\n",
              "      <td>46.85</td>\n",
              "      <td>37.10</td>\n",
              "      <td>43.04</td>\n",
              "      <td>29.96</td>\n",
              "      <td>45.55</td>\n",
              "      <td>41.84</td>\n",
              "      <td>28.26</td>\n",
              "      <td>26.35</td>\n",
              "      <td>4.24</td>\n",
              "      <td>30.30000</td>\n",
              "      <td>299.069000</td>\n",
              "      <td>67.900000</td>\n",
              "      <td>49.00700</td>\n",
              "      <td>154.95900</td>\n",
              "      <td>67.06460</td>\n",
              "      <td>21.672700</td>\n",
              "      <td>43.417600</td>\n",
              "      <td>17.043700</td>\n",
              "      <td>97.700000</td>\n",
              "      <td>NaN</td>\n",
              "      <td>134.994000</td>\n",
              "      <td>32.440000</td>\n",
              "      <td>6.345910</td>\n",
              "      <td>5.000000</td>\n",
              "      <td>0.549000</td>\n",
              "      <td>34.161800</td>\n",
              "      <td>31.741100</td>\n",
              "      <td>NaN</td>\n",
              "      <td>49.515500</td>\n",
              "      <td>0.573390</td>\n",
              "      <td>0.670000</td>\n",
              "      <td>67.350600</td>\n",
              "      <td>11.447700</td>\n",
              "      <td>0.320200</td>\n",
              "      <td>2.650000</td>\n",
              "      <td>15.259200</td>\n",
              "      <td>965.241000</td>\n",
              "      <td>46.014000</td>\n",
              "      <td>1.161000</td>\n",
              "      <td>45.737700</td>\n",
              "      <td>554.93900</td>\n",
              "      <td>0.104392</td>\n",
              "      <td>13.000000</td>\n",
              "      <td>0.573000</td>\n",
              "      <td>1.868000</td>\n",
              "      <td>0.167000</td>\n",
              "      <td>2.583000</td>\n",
              "      <td>89.379000</td>\n",
              "      <td>35.000000</td>\n",
              "      <td>46.400000</td>\n",
              "      <td>16.000000</td>\n",
              "      <td>3.234700</td>\n",
              "      <td>7.800000</td>\n",
              "      <td>1.172000</td>\n",
              "      <td>0.9960</td>\n",
              "      <td>1.834000</td>\n",
              "      <td>0.499610</td>\n",
              "      <td>1.900000</td>\n",
              "      <td>0.000000</td>\n",
              "      <td>0.000000</td>\n",
              "    </tr>\n",
              "    <tr>\n",
              "      <th>2</th>\n",
              "      <td>54.0</td>\n",
              "      <td>Albania</td>\n",
              "      <td>ALB</td>\n",
              "      <td>Ranked</td>\n",
              "      <td>71.57</td>\n",
              "      <td>85.03</td>\n",
              "      <td>79.03</td>\n",
              "      <td>50.65</td>\n",
              "      <td>91.62</td>\n",
              "      <td>92.56</td>\n",
              "      <td>83.83</td>\n",
              "      <td>72.13</td>\n",
              "      <td>90.43</td>\n",
              "      <td>77.32</td>\n",
              "      <td>71.90</td>\n",
              "      <td>76.49</td>\n",
              "      <td>82.85</td>\n",
              "      <td>43.58</td>\n",
              "      <td>46.41</td>\n",
              "      <td>29.77</td>\n",
              "      <td>5.50000</td>\n",
              "      <td>9.302000</td>\n",
              "      <td>8.800000</td>\n",
              "      <td>21.84100</td>\n",
              "      <td>15.81440</td>\n",
              "      <td>91.03920</td>\n",
              "      <td>86.269200</td>\n",
              "      <td>97.718400</td>\n",
              "      <td>0.000000</td>\n",
              "      <td>100.000000</td>\n",
              "      <td>4.60736</td>\n",
              "      <td>18.280800</td>\n",
              "      <td>77.420000</td>\n",
              "      <td>2.698930</td>\n",
              "      <td>4.000000</td>\n",
              "      <td>0.945000</td>\n",
              "      <td>8.923250</td>\n",
              "      <td>97.247000</td>\n",
              "      <td>99.32330</td>\n",
              "      <td>87.451700</td>\n",
              "      <td>0.940450</td>\n",
              "      <td>2.559000</td>\n",
              "      <td>123.736000</td>\n",
              "      <td>71.847000</td>\n",
              "      <td>0.758400</td>\n",
              "      <td>1.789000</td>\n",
              "      <td>22.073600</td>\n",
              "      <td>283.846000</td>\n",
              "      <td>80.258000</td>\n",
              "      <td>2.493000</td>\n",
              "      <td>20.837400</td>\n",
              "      <td>304.31900</td>\n",
              "      <td>16.058300</td>\n",
              "      <td>28.000000</td>\n",
              "      <td>0.705000</td>\n",
              "      <td>3.841000</td>\n",
              "      <td>0.876000</td>\n",
              "      <td>4.355000</td>\n",
              "      <td>54.854000</td>\n",
              "      <td>7.000000</td>\n",
              "      <td>7.100000</td>\n",
              "      <td>36.000000</td>\n",
              "      <td>9.746500</td>\n",
              "      <td>4.300000</td>\n",
              "      <td>2.340000</td>\n",
              "      <td>1.3430</td>\n",
              "      <td>2.506000</td>\n",
              "      <td>3.040540</td>\n",
              "      <td>9.800000</td>\n",
              "      <td>0.000000</td>\n",
              "      <td>0.000000</td>\n",
              "    </tr>\n",
              "    <tr>\n",
              "      <th>3</th>\n",
              "      <td>79.0</td>\n",
              "      <td>Algeria</td>\n",
              "      <td>DZA</td>\n",
              "      <td>Ranked</td>\n",
              "      <td>67.06</td>\n",
              "      <td>82.75</td>\n",
              "      <td>67.74</td>\n",
              "      <td>50.68</td>\n",
              "      <td>90.52</td>\n",
              "      <td>88.25</td>\n",
              "      <td>87.41</td>\n",
              "      <td>64.81</td>\n",
              "      <td>86.60</td>\n",
              "      <td>55.64</td>\n",
              "      <td>71.56</td>\n",
              "      <td>57.18</td>\n",
              "      <td>55.94</td>\n",
              "      <td>68.26</td>\n",
              "      <td>43.14</td>\n",
              "      <td>35.36</td>\n",
              "      <td>4.70000</td>\n",
              "      <td>65.135000</td>\n",
              "      <td>24.000000</td>\n",
              "      <td>13.59200</td>\n",
              "      <td>22.55090</td>\n",
              "      <td>93.55590</td>\n",
              "      <td>76.776800</td>\n",
              "      <td>87.586600</td>\n",
              "      <td>2.276960</td>\n",
              "      <td>100.000000</td>\n",
              "      <td>4.19741</td>\n",
              "      <td>0.191767</td>\n",
              "      <td>92.620000</td>\n",
              "      <td>1.359370</td>\n",
              "      <td>4.000000</td>\n",
              "      <td>0.586000</td>\n",
              "      <td>18.043900</td>\n",
              "      <td>NaN</td>\n",
              "      <td>99.44290</td>\n",
              "      <td>NaN</td>\n",
              "      <td>1.037990</td>\n",
              "      <td>2.945000</td>\n",
              "      <td>110.958000</td>\n",
              "      <td>47.691100</td>\n",
              "      <td>0.202200</td>\n",
              "      <td>1.659000</td>\n",
              "      <td>22.744500</td>\n",
              "      <td>276.478000</td>\n",
              "      <td>72.332000</td>\n",
              "      <td>2.672000</td>\n",
              "      <td>41.976200</td>\n",
              "      <td>406.87500</td>\n",
              "      <td>7.379160</td>\n",
              "      <td>10.000000</td>\n",
              "      <td>0.639000</td>\n",
              "      <td>1.270000</td>\n",
              "      <td>0.666000</td>\n",
              "      <td>4.193000</td>\n",
              "      <td>26.762000</td>\n",
              "      <td>3.000000</td>\n",
              "      <td>74.700000</td>\n",
              "      <td>35.000000</td>\n",
              "      <td>20.578400</td>\n",
              "      <td>7.400000</td>\n",
              "      <td>1.853000</td>\n",
              "      <td>2.2080</td>\n",
              "      <td>2.226000</td>\n",
              "      <td>2.386050</td>\n",
              "      <td>7.600000</td>\n",
              "      <td>6.000000</td>\n",
              "      <td>15.000000</td>\n",
              "    </tr>\n",
              "    <tr>\n",
              "      <th>...</th>\n",
              "      <td>...</td>\n",
              "      <td>...</td>\n",
              "      <td>...</td>\n",
              "      <td>...</td>\n",
              "      <td>...</td>\n",
              "      <td>...</td>\n",
              "      <td>...</td>\n",
              "      <td>...</td>\n",
              "      <td>...</td>\n",
              "      <td>...</td>\n",
              "      <td>...</td>\n",
              "      <td>...</td>\n",
              "      <td>...</td>\n",
              "      <td>...</td>\n",
              "      <td>...</td>\n",
              "      <td>...</td>\n",
              "      <td>...</td>\n",
              "      <td>...</td>\n",
              "      <td>...</td>\n",
              "      <td>...</td>\n",
              "      <td>...</td>\n",
              "      <td>...</td>\n",
              "      <td>...</td>\n",
              "      <td>...</td>\n",
              "      <td>...</td>\n",
              "      <td>...</td>\n",
              "      <td>...</td>\n",
              "      <td>...</td>\n",
              "      <td>...</td>\n",
              "      <td>...</td>\n",
              "      <td>...</td>\n",
              "      <td>...</td>\n",
              "      <td>...</td>\n",
              "      <td>...</td>\n",
              "      <td>...</td>\n",
              "      <td>...</td>\n",
              "      <td>...</td>\n",
              "      <td>...</td>\n",
              "      <td>...</td>\n",
              "      <td>...</td>\n",
              "      <td>...</td>\n",
              "      <td>...</td>\n",
              "      <td>...</td>\n",
              "      <td>...</td>\n",
              "      <td>...</td>\n",
              "      <td>...</td>\n",
              "      <td>...</td>\n",
              "      <td>...</td>\n",
              "      <td>...</td>\n",
              "      <td>...</td>\n",
              "      <td>...</td>\n",
              "      <td>...</td>\n",
              "      <td>...</td>\n",
              "      <td>...</td>\n",
              "      <td>...</td>\n",
              "      <td>...</td>\n",
              "      <td>...</td>\n",
              "      <td>...</td>\n",
              "      <td>...</td>\n",
              "      <td>...</td>\n",
              "      <td>...</td>\n",
              "      <td>...</td>\n",
              "      <td>...</td>\n",
              "      <td>...</td>\n",
              "      <td>...</td>\n",
              "      <td>...</td>\n",
              "      <td>...</td>\n",
              "      <td>...</td>\n",
              "      <td>...</td>\n",
              "      <td>...</td>\n",
              "      <td>...</td>\n",
              "    </tr>\n",
              "    <tr>\n",
              "      <th>235</th>\n",
              "      <td>NaN</td>\n",
              "      <td>Western Sahara</td>\n",
              "      <td>ESH</td>\n",
              "      <td>Indicators only</td>\n",
              "      <td>NaN</td>\n",
              "      <td>NaN</td>\n",
              "      <td>NaN</td>\n",
              "      <td>NaN</td>\n",
              "      <td>NaN</td>\n",
              "      <td>NaN</td>\n",
              "      <td>NaN</td>\n",
              "      <td>NaN</td>\n",
              "      <td>NaN</td>\n",
              "      <td>NaN</td>\n",
              "      <td>NaN</td>\n",
              "      <td>NaN</td>\n",
              "      <td>NaN</td>\n",
              "      <td>NaN</td>\n",
              "      <td>NaN</td>\n",
              "      <td>NaN</td>\n",
              "      <td>NaN</td>\n",
              "      <td>NaN</td>\n",
              "      <td>NaN</td>\n",
              "      <td>NaN</td>\n",
              "      <td>NaN</td>\n",
              "      <td>NaN</td>\n",
              "      <td>NaN</td>\n",
              "      <td>NaN</td>\n",
              "      <td>NaN</td>\n",
              "      <td>NaN</td>\n",
              "      <td>NaN</td>\n",
              "      <td>NaN</td>\n",
              "      <td>NaN</td>\n",
              "      <td>NaN</td>\n",
              "      <td>NaN</td>\n",
              "      <td>NaN</td>\n",
              "      <td>NaN</td>\n",
              "      <td>NaN</td>\n",
              "      <td>NaN</td>\n",
              "      <td>NaN</td>\n",
              "      <td>NaN</td>\n",
              "      <td>NaN</td>\n",
              "      <td>NaN</td>\n",
              "      <td>NaN</td>\n",
              "      <td>NaN</td>\n",
              "      <td>NaN</td>\n",
              "      <td>NaN</td>\n",
              "      <td>NaN</td>\n",
              "      <td>NaN</td>\n",
              "      <td>NaN</td>\n",
              "      <td>NaN</td>\n",
              "      <td>NaN</td>\n",
              "      <td>NaN</td>\n",
              "      <td>-3.000000</td>\n",
              "      <td>NaN</td>\n",
              "      <td>NaN</td>\n",
              "      <td>NaN</td>\n",
              "      <td>NaN</td>\n",
              "      <td>NaN</td>\n",
              "      <td>NaN</td>\n",
              "      <td>NaN</td>\n",
              "      <td>NaN</td>\n",
              "      <td>NaN</td>\n",
              "      <td>NaN</td>\n",
              "      <td>NaN</td>\n",
              "      <td>NaN</td>\n",
              "      <td>NaN</td>\n",
              "      <td>NaN</td>\n",
              "      <td>NaN</td>\n",
              "      <td>0.000000</td>\n",
              "      <td>0.000000</td>\n",
              "    </tr>\n",
              "    <tr>\n",
              "      <th>236</th>\n",
              "      <td>NaN</td>\n",
              "      <td>Syria</td>\n",
              "      <td>SYR</td>\n",
              "      <td>Not ranked</td>\n",
              "      <td>NaN</td>\n",
              "      <td>NaN</td>\n",
              "      <td>NaN</td>\n",
              "      <td>25.96</td>\n",
              "      <td>NaN</td>\n",
              "      <td>90.08</td>\n",
              "      <td>85.12</td>\n",
              "      <td>50.25</td>\n",
              "      <td>NaN</td>\n",
              "      <td>45.46</td>\n",
              "      <td>54.86</td>\n",
              "      <td>NaN</td>\n",
              "      <td>24.08</td>\n",
              "      <td>53.77</td>\n",
              "      <td>10.36</td>\n",
              "      <td>15.65</td>\n",
              "      <td>NaN</td>\n",
              "      <td>16.302000</td>\n",
              "      <td>17.000000</td>\n",
              "      <td>26.06500</td>\n",
              "      <td>24.50870</td>\n",
              "      <td>97.21650</td>\n",
              "      <td>72.914200</td>\n",
              "      <td>91.222900</td>\n",
              "      <td>1.433330</td>\n",
              "      <td>89.638800</td>\n",
              "      <td>3.90442</td>\n",
              "      <td>0.088205</td>\n",
              "      <td>99.020000</td>\n",
              "      <td>2.202790</td>\n",
              "      <td>5.000000</td>\n",
              "      <td>0.028000</td>\n",
              "      <td>13.050200</td>\n",
              "      <td>NaN</td>\n",
              "      <td>67.36720</td>\n",
              "      <td>45.524500</td>\n",
              "      <td>1.000780</td>\n",
              "      <td>0.372000</td>\n",
              "      <td>84.215200</td>\n",
              "      <td>34.253400</td>\n",
              "      <td>0.365200</td>\n",
              "      <td>0.126000</td>\n",
              "      <td>20.203300</td>\n",
              "      <td>418.671000</td>\n",
              "      <td>69.923000</td>\n",
              "      <td>0.441000</td>\n",
              "      <td>62.061200</td>\n",
              "      <td>NaN</td>\n",
              "      <td>0.704342</td>\n",
              "      <td>-3.000000</td>\n",
              "      <td>0.089000</td>\n",
              "      <td>1.727000</td>\n",
              "      <td>0.050000</td>\n",
              "      <td>2.637000</td>\n",
              "      <td>34.371000</td>\n",
              "      <td>10.000000</td>\n",
              "      <td>60.500000</td>\n",
              "      <td>13.000000</td>\n",
              "      <td>36.057100</td>\n",
              "      <td>10.000000</td>\n",
              "      <td>0.127000</td>\n",
              "      <td>0.4980</td>\n",
              "      <td>0.201000</td>\n",
              "      <td>1.959090</td>\n",
              "      <td>4.600000</td>\n",
              "      <td>0.000000</td>\n",
              "      <td>0.000000</td>\n",
              "    </tr>\n",
              "    <tr>\n",
              "      <th>237</th>\n",
              "      <td>NaN</td>\n",
              "      <td>Venezuela</td>\n",
              "      <td>VEN</td>\n",
              "      <td>Not ranked</td>\n",
              "      <td>NaN</td>\n",
              "      <td>NaN</td>\n",
              "      <td>64.12</td>\n",
              "      <td>45.65</td>\n",
              "      <td>87.26</td>\n",
              "      <td>NaN</td>\n",
              "      <td>79.76</td>\n",
              "      <td>36.98</td>\n",
              "      <td>75.52</td>\n",
              "      <td>52.74</td>\n",
              "      <td>60.10</td>\n",
              "      <td>68.10</td>\n",
              "      <td>45.83</td>\n",
              "      <td>58.22</td>\n",
              "      <td>43.62</td>\n",
              "      <td>34.92</td>\n",
              "      <td>11.70000</td>\n",
              "      <td>68.515000</td>\n",
              "      <td>30.900000</td>\n",
              "      <td>13.89100</td>\n",
              "      <td>42.55580</td>\n",
              "      <td>95.72370</td>\n",
              "      <td>87.451200</td>\n",
              "      <td>93.935000</td>\n",
              "      <td>NaN</td>\n",
              "      <td>100.000000</td>\n",
              "      <td>2.10090</td>\n",
              "      <td>0.472981</td>\n",
              "      <td>96.160000</td>\n",
              "      <td>56.333300</td>\n",
              "      <td>5.000000</td>\n",
              "      <td>0.335000</td>\n",
              "      <td>24.090400</td>\n",
              "      <td>97.127100</td>\n",
              "      <td>86.87590</td>\n",
              "      <td>69.823500</td>\n",
              "      <td>1.077590</td>\n",
              "      <td>0.996000</td>\n",
              "      <td>78.463600</td>\n",
              "      <td>64.313400</td>\n",
              "      <td>0.404500</td>\n",
              "      <td>0.157000</td>\n",
              "      <td>22.263300</td>\n",
              "      <td>328.514000</td>\n",
              "      <td>70.912000</td>\n",
              "      <td>0.346000</td>\n",
              "      <td>33.052300</td>\n",
              "      <td>545.93300</td>\n",
              "      <td>16.991900</td>\n",
              "      <td>3.000000</td>\n",
              "      <td>0.281000</td>\n",
              "      <td>3.015000</td>\n",
              "      <td>0.193000</td>\n",
              "      <td>4.184000</td>\n",
              "      <td>32.932000</td>\n",
              "      <td>16.000000</td>\n",
              "      <td>81.800000</td>\n",
              "      <td>18.000000</td>\n",
              "      <td>50.725200</td>\n",
              "      <td>7.600000</td>\n",
              "      <td>2.511000</td>\n",
              "      <td>2.3260</td>\n",
              "      <td>0.404000</td>\n",
              "      <td>3.849620</td>\n",
              "      <td>10.700000</td>\n",
              "      <td>0.000000</td>\n",
              "      <td>0.000000</td>\n",
              "    </tr>\n",
              "    <tr>\n",
              "      <th>238</th>\n",
              "      <td>NaN</td>\n",
              "      <td>Yemen</td>\n",
              "      <td>YEM</td>\n",
              "      <td>Not ranked</td>\n",
              "      <td>NaN</td>\n",
              "      <td>54.28</td>\n",
              "      <td>NaN</td>\n",
              "      <td>NaN</td>\n",
              "      <td>64.84</td>\n",
              "      <td>54.65</td>\n",
              "      <td>60.86</td>\n",
              "      <td>36.79</td>\n",
              "      <td>NaN</td>\n",
              "      <td>27.51</td>\n",
              "      <td>42.32</td>\n",
              "      <td>39.51</td>\n",
              "      <td>20.05</td>\n",
              "      <td>44.14</td>\n",
              "      <td>NaN</td>\n",
              "      <td>4.21</td>\n",
              "      <td>34.40000</td>\n",
              "      <td>206.137000</td>\n",
              "      <td>55.400000</td>\n",
              "      <td>45.24200</td>\n",
              "      <td>75.36980</td>\n",
              "      <td>63.47350</td>\n",
              "      <td>48.302000</td>\n",
              "      <td>59.053000</td>\n",
              "      <td>30.009900</td>\n",
              "      <td>79.200000</td>\n",
              "      <td>1.18931</td>\n",
              "      <td>36.355300</td>\n",
              "      <td>64.930000</td>\n",
              "      <td>6.658500</td>\n",
              "      <td>5.000000</td>\n",
              "      <td>0.059000</td>\n",
              "      <td>39.460200</td>\n",
              "      <td>NaN</td>\n",
              "      <td>83.31680</td>\n",
              "      <td>47.061300</td>\n",
              "      <td>0.727210</td>\n",
              "      <td>0.181000</td>\n",
              "      <td>54.363300</td>\n",
              "      <td>26.718400</td>\n",
              "      <td>0.118000</td>\n",
              "      <td>0.101000</td>\n",
              "      <td>17.976500</td>\n",
              "      <td>603.165000</td>\n",
              "      <td>56.242000</td>\n",
              "      <td>0.234000</td>\n",
              "      <td>58.039800</td>\n",
              "      <td>735.01600</td>\n",
              "      <td>0.775324</td>\n",
              "      <td>1.000000</td>\n",
              "      <td>0.135000</td>\n",
              "      <td>0.346000</td>\n",
              "      <td>0.214000</td>\n",
              "      <td>2.344000</td>\n",
              "      <td>45.398000</td>\n",
              "      <td>17.000000</td>\n",
              "      <td>43.000000</td>\n",
              "      <td>14.000000</td>\n",
              "      <td>NaN</td>\n",
              "      <td>9.600000</td>\n",
              "      <td>0.828000</td>\n",
              "      <td>0.7810</td>\n",
              "      <td>0.391000</td>\n",
              "      <td>0.498580</td>\n",
              "      <td>1.900000</td>\n",
              "      <td>0.000000</td>\n",
              "      <td>0.000000</td>\n",
              "    </tr>\n",
              "  </tbody>\n",
              "</table>\n",
              "<p>239 rows × 71 columns</p>\n",
              "</div>"
            ],
            "text/plain": [
              "     2019 ranking  ... Percent of tertiary students enrolled in globally ranked universities\n",
              "0             NaN  ...                                          13.290866                   \n",
              "1           143.0  ...                                           0.000000                   \n",
              "2            54.0  ...                                           0.000000                   \n",
              "3            79.0  ...                                          15.000000                   \n",
              "..            ...  ...                                                ...                   \n",
              "235           NaN  ...                                           0.000000                   \n",
              "236           NaN  ...                                           0.000000                   \n",
              "237           NaN  ...                                           0.000000                   \n",
              "238           NaN  ...                                           0.000000                   \n",
              "\n",
              "[239 rows x 71 columns]"
            ]
          },
          "metadata": {
            "tags": []
          }
        },
        {
          "output_type": "display_data",
          "data": {
            "text/html": [
              "<hr/>"
            ],
            "text/plain": [
              "<IPython.core.display.HTML object>"
            ]
          },
          "metadata": {
            "tags": []
          }
        },
        {
          "output_type": "display_data",
          "data": {
            "text/html": [
              "<h2>Indices</h2>"
            ],
            "text/plain": [
              "<IPython.core.display.HTML object>"
            ]
          },
          "metadata": {
            "tags": []
          }
        },
        {
          "output_type": "stream",
          "text": [
            "['2019 ranking', 'Country', 'Code', 'Status', 'Social Progress Index', 'Basic Human Needs', 'Foundations of Wellbeing', 'Opportunity', 'Nutrition and Basic Medical Care', 'Water and Sanitation', 'Shelter', 'Personal Safety', 'Access to Basic Knowledge', 'Access to Information and Communications', 'Health and Wellness', 'Environmental Quality', 'Personal Rights', 'Personal Freedom and Choice', 'Inclusiveness', 'Access to Advanced Education', 'Undernourishment (% of pop.)', 'Maternal mortality rate (deaths/100,000 live births)', 'Child mortality rate (deaths/1,000 live births)', 'Child stunting (% of children)', 'Deaths from infectious diseases (deaths/100,000 people)', 'Access to at least basic drinking water (% of pop.)', 'Access to piped water (% of pop.)', 'Access to at least basic sanitation facilities (% of pop.)', 'Rural open defecation (% of pop.)', 'Access to electricity (% of pop.)', 'Quality of electricity supply (1=low; 7=high)', 'Household air pollution attributable deaths (deaths/100,000 people)', 'Access to clean fuels and technology for cooking (% of pop.)', 'Homicide rate (deaths/100,000 people)', 'Perceived criminality (1=low; 5=high)', 'Political killings and torture (0=low freedom; 1=high freedom)', 'Traffic deaths (deaths/100,000 people)', 'Adult literacy rate (% of pop. aged 15+)', 'Primary school enrollment (% of children)', 'Secondary school enrollment (% of children)', 'Gender parity in secondary enrollment (distance from parity)', 'Access to quality education (0=unequal; 4=equal)', 'Mobile telephone subscriptions (subscriptions/100 people)', 'Internet users (% of pop.)', 'Access to online governance (0=low; 1=high)', 'Media censorship (0=frequent; 4=rare)', 'Life expectancy at 60 (years)', 'Premature deaths from non-communicable diseases (deaths/100,000 people)', 'Access to essential services  (0=none; 100=full coverage)', 'Access to quality healthcare (0=unequal; 4=equal)', 'Outdoor air pollution attributable deaths (deaths/100,000 people)', 'Greenhouse gas emissions (CO2 equivalents/GDP)', 'Biome protection', 'Political rights (0=no rights; 40=full rights)', 'Freedom of expression (0=no freedom; 1=full freedom)', 'Freedom of religion (0=no freedom; 4=full freedom)', 'Access to justice (0=non-existent; 1=observed)', 'Property rights for women (0=no rights; 5=full rights)', 'Vulnerable employment (% of employees)', 'Early marriage (% of women)', 'Satisfied demand for contraception (% of women)', 'Corruption (0=high; 100=low)', 'Acceptance of gays and lesbians (0=low; 100=high)', 'Discrimination and violence against minorities (1=low; 10=high)', 'Equality of political power by gender (0=unequal power; 4=equal power)', 'Equality of political power by socioeconomic position (0=unequal power; 4=equal power)', 'Equality of political power by social group (0=unequal power; 4=equal power)', 'Years of tertiary schooling', \"Women's average years in school\", 'Globally ranked universities (points)', 'Percent of tertiary students enrolled in globally ranked universities']\n"
          ],
          "name": "stdout"
        }
      ]
    },
    {
      "cell_type": "markdown",
      "metadata": {
        "id": "rV2aQSU4hDFU"
      },
      "source": [
        "SPI dataset compares UN member states (countries and regions) using 54 indices called SPI indices.  The data set contains data from years 2014 through 2019.\n",
        "\n",
        "The variable `spi2019` points to a Pandas data frame object that stores the sheet named `2019` of the Excel file.  The sheet corresponds to the year 2019 record of the SPI dataset.\n",
        "\n",
        "For the detail of the SPI indices, please [download the Excel sheet](https://github.com/wakita/y20-vis/raw/master/docs/data/spi2019.xlsx) and refer to the **Definitions** sheet.\n",
        "\n",
        "The variable `indices` contains the list of index names."
      ]
    },
    {
      "cell_type": "markdown",
      "metadata": {
        "id": "7pLZ1OrRhDFV"
      },
      "source": [
        "The table contains Year 2019 SPI data for a total of 236 UN member states.\n",
        "\n",
        "This table contains 71 columns. The first four columns give the SPI ranking, name, code, and status of the member state.  The last 51 columns (the `U` through `BS` columns in Excel sheet) are basic indicators.  The rest are abstracted indicators that are aggregated from the basic indicators. The columns are obtained by `spi2019.keys()`, which is converted to Python list and stored in `indices`.\n",
        "\n",
        "The example below displays some of the data for the first five of these countries and regions (Afghanistan, Angola, Albania, United Arab Emirates, Argentina).\n",
        "\n",
        "In the following examples, the first five columns of the table are shown. Note that Pandas' table corresponds to the slice notation similar to Python's list. `[:n]` means a group of $n$ elements at the top of a structure such as a list, `[n:]` means a group of elements after the nth element. Also, a negative value as the index of an element points to the nth element from the end of the list etc."
      ]
    },
    {
      "cell_type": "code",
      "metadata": {
        "id": "Z2OnhoYBhDFV",
        "colab": {
          "base_uri": "https://localhost:8080/",
          "height": 1000
        },
        "outputId": "b3d303b9-d86e-4971-d735-cac7cd27c8fc"
      },
      "source": [
        "h2('The list of SPI indices')\n",
        "print('#SPI Indices = ' + str(len(indices)) + '\\n  - ' +\n",
        "      '\\n  - '.join(indices[:6]) +\n",
        "      ',\\n    ...,\\n  - ' +\n",
        "      '\\n  - '.join(indices[-5:]))\n",
        "\n",
        "h2('Member states')\n",
        "display(spi2019['Country'])\n",
        "\n",
        "h2('Member state code')\n",
        "print(spi2019['Code'], '\\n')\n",
        "\n",
        "h2('Showing only part of the big table')\n",
        "indices5 = indices[:5]  # The index names for the first four attributes\n",
        "# Presenting the first five attributes of the first five member states\n",
        "h3('indices5:')\n",
        "print(indices5)\n",
        "h3('Five indices for the five countries')\n",
        "display(spi2019[indices[:5]][1:6])\n",
        "\n",
        "h2('The number the list of member states')\n",
        "print('#Member states =', len(spi2019['Country']))\n",
        "display(spi2019['Country'])"
      ],
      "execution_count": 5,
      "outputs": [
        {
          "output_type": "display_data",
          "data": {
            "text/html": [
              "<hr/>"
            ],
            "text/plain": [
              "<IPython.core.display.HTML object>"
            ]
          },
          "metadata": {
            "tags": []
          }
        },
        {
          "output_type": "display_data",
          "data": {
            "text/html": [
              "<h2>The list of SPI indices</h2>"
            ],
            "text/plain": [
              "<IPython.core.display.HTML object>"
            ]
          },
          "metadata": {
            "tags": []
          }
        },
        {
          "output_type": "stream",
          "text": [
            "#SPI Indices = 71\n",
            "  - 2019 ranking\n",
            "  - Country\n",
            "  - Code\n",
            "  - Status\n",
            "  - Social Progress Index\n",
            "  - Basic Human Needs,\n",
            "    ...,\n",
            "  - Equality of political power by social group (0=unequal power; 4=equal power)\n",
            "  - Years of tertiary schooling\n",
            "  - Women's average years in school\n",
            "  - Globally ranked universities (points)\n",
            "  - Percent of tertiary students enrolled in globally ranked universities\n"
          ],
          "name": "stdout"
        },
        {
          "output_type": "display_data",
          "data": {
            "text/html": [
              "<hr/>"
            ],
            "text/plain": [
              "<IPython.core.display.HTML object>"
            ]
          },
          "metadata": {
            "tags": []
          }
        },
        {
          "output_type": "display_data",
          "data": {
            "text/html": [
              "<h2>Member states</h2>"
            ],
            "text/plain": [
              "<IPython.core.display.HTML object>"
            ]
          },
          "metadata": {
            "tags": []
          }
        },
        {
          "output_type": "display_data",
          "data": {
            "text/plain": [
              "0               World\n",
              "1         Afghanistan\n",
              "2             Albania\n",
              "3             Algeria\n",
              "            ...      \n",
              "235    Western Sahara\n",
              "236             Syria\n",
              "237         Venezuela\n",
              "238             Yemen\n",
              "Name: Country, Length: 239, dtype: object"
            ]
          },
          "metadata": {
            "tags": []
          }
        },
        {
          "output_type": "display_data",
          "data": {
            "text/html": [
              "<hr/>"
            ],
            "text/plain": [
              "<IPython.core.display.HTML object>"
            ]
          },
          "metadata": {
            "tags": []
          }
        },
        {
          "output_type": "display_data",
          "data": {
            "text/html": [
              "<h2>Member state code</h2>"
            ],
            "text/plain": [
              "<IPython.core.display.HTML object>"
            ]
          },
          "metadata": {
            "tags": []
          }
        },
        {
          "output_type": "stream",
          "text": [
            "0      WWW\n",
            "1      AFG\n",
            "2      ALB\n",
            "3      DZA\n",
            "      ... \n",
            "235    ESH\n",
            "236    SYR\n",
            "237    VEN\n",
            "238    YEM\n",
            "Name: Code, Length: 239, dtype: object \n",
            "\n"
          ],
          "name": "stdout"
        },
        {
          "output_type": "display_data",
          "data": {
            "text/html": [
              "<hr/>"
            ],
            "text/plain": [
              "<IPython.core.display.HTML object>"
            ]
          },
          "metadata": {
            "tags": []
          }
        },
        {
          "output_type": "display_data",
          "data": {
            "text/html": [
              "<h2>Showing only part of the big table</h2>"
            ],
            "text/plain": [
              "<IPython.core.display.HTML object>"
            ]
          },
          "metadata": {
            "tags": []
          }
        },
        {
          "output_type": "display_data",
          "data": {
            "text/html": [
              "<h3>indices5:</h3>"
            ],
            "text/plain": [
              "<IPython.core.display.HTML object>"
            ]
          },
          "metadata": {
            "tags": []
          }
        },
        {
          "output_type": "stream",
          "text": [
            "['2019 ranking', 'Country', 'Code', 'Status', 'Social Progress Index']\n"
          ],
          "name": "stdout"
        },
        {
          "output_type": "display_data",
          "data": {
            "text/html": [
              "<h3>Five indices for the five countries</h3>"
            ],
            "text/plain": [
              "<IPython.core.display.HTML object>"
            ]
          },
          "metadata": {
            "tags": []
          }
        },
        {
          "output_type": "display_data",
          "data": {
            "text/html": [
              "<div>\n",
              "<style scoped>\n",
              "    .dataframe tbody tr th:only-of-type {\n",
              "        vertical-align: middle;\n",
              "    }\n",
              "\n",
              "    .dataframe tbody tr th {\n",
              "        vertical-align: top;\n",
              "    }\n",
              "\n",
              "    .dataframe thead th {\n",
              "        text-align: right;\n",
              "    }\n",
              "</style>\n",
              "<table border=\"1\" class=\"dataframe\">\n",
              "  <thead>\n",
              "    <tr style=\"text-align: right;\">\n",
              "      <th></th>\n",
              "      <th>2019 ranking</th>\n",
              "      <th>Country</th>\n",
              "      <th>Code</th>\n",
              "      <th>Status</th>\n",
              "      <th>Social Progress Index</th>\n",
              "    </tr>\n",
              "  </thead>\n",
              "  <tbody>\n",
              "    <tr>\n",
              "      <th>1</th>\n",
              "      <td>143.0</td>\n",
              "      <td>Afghanistan</td>\n",
              "      <td>AFG</td>\n",
              "      <td>Ranked</td>\n",
              "      <td>38.60</td>\n",
              "    </tr>\n",
              "    <tr>\n",
              "      <th>2</th>\n",
              "      <td>54.0</td>\n",
              "      <td>Albania</td>\n",
              "      <td>ALB</td>\n",
              "      <td>Ranked</td>\n",
              "      <td>71.57</td>\n",
              "    </tr>\n",
              "    <tr>\n",
              "      <th>3</th>\n",
              "      <td>79.0</td>\n",
              "      <td>Algeria</td>\n",
              "      <td>DZA</td>\n",
              "      <td>Ranked</td>\n",
              "      <td>67.06</td>\n",
              "    </tr>\n",
              "    <tr>\n",
              "      <th>4</th>\n",
              "      <td>137.0</td>\n",
              "      <td>Angola</td>\n",
              "      <td>AGO</td>\n",
              "      <td>Ranked</td>\n",
              "      <td>42.58</td>\n",
              "    </tr>\n",
              "    <tr>\n",
              "      <th>5</th>\n",
              "      <td>42.0</td>\n",
              "      <td>Argentina</td>\n",
              "      <td>ARG</td>\n",
              "      <td>Ranked</td>\n",
              "      <td>76.86</td>\n",
              "    </tr>\n",
              "  </tbody>\n",
              "</table>\n",
              "</div>"
            ],
            "text/plain": [
              "   2019 ranking      Country Code  Status  Social Progress Index\n",
              "1         143.0  Afghanistan  AFG  Ranked                  38.60\n",
              "2          54.0      Albania  ALB  Ranked                  71.57\n",
              "3          79.0      Algeria  DZA  Ranked                  67.06\n",
              "4         137.0       Angola  AGO  Ranked                  42.58\n",
              "5          42.0    Argentina  ARG  Ranked                  76.86"
            ]
          },
          "metadata": {
            "tags": []
          }
        },
        {
          "output_type": "display_data",
          "data": {
            "text/html": [
              "<hr/>"
            ],
            "text/plain": [
              "<IPython.core.display.HTML object>"
            ]
          },
          "metadata": {
            "tags": []
          }
        },
        {
          "output_type": "display_data",
          "data": {
            "text/html": [
              "<h2>The number the list of member states</h2>"
            ],
            "text/plain": [
              "<IPython.core.display.HTML object>"
            ]
          },
          "metadata": {
            "tags": []
          }
        },
        {
          "output_type": "stream",
          "text": [
            "#Member states = 239\n"
          ],
          "name": "stdout"
        },
        {
          "output_type": "display_data",
          "data": {
            "text/plain": [
              "0               World\n",
              "1         Afghanistan\n",
              "2             Albania\n",
              "3             Algeria\n",
              "            ...      \n",
              "235    Western Sahara\n",
              "236             Syria\n",
              "237         Venezuela\n",
              "238             Yemen\n",
              "Name: Country, Length: 239, dtype: object"
            ]
          },
          "metadata": {
            "tags": []
          }
        }
      ]
    },
    {
      "cell_type": "markdown",
      "metadata": {
        "id": "mcQ2lk-1hDFV"
      },
      "source": [
        "## Selecting a row of the data frame\n",
        "\n",
        "You can create a mask for the rows of a table by writing a predicate (a boolean expression) over the column values. For example, the following formula would be the truth value for each member state, with Albania taking the true value and the other member states taking the false values.\n",
        "\n",
        "> spi2019['Country'] == 'Albania'\n",
        "\n",
        "We can apply such a truth mask to `spi2019`. That way, we can retrieve only the rows that correspond to the true values from the table.\n",
        "\n",
        "> spi2019[spi2019['Country'] == 'Albania']"
      ]
    },
    {
      "cell_type": "code",
      "metadata": {
        "id": "Xp25b678hDFV",
        "colab": {
          "base_uri": "https://localhost:8080/",
          "height": 1000
        },
        "outputId": "20e47d98-c60d-48d8-952a-755f232b8853"
      },
      "source": [
        "h2('SPI indices')\n",
        "display(spi2019['Social Progress Index'])\n",
        "\n",
        "h2('The mask that matches a member state whose name is \"Albania\"')\n",
        "mask_Albania = spi2019['Country'] == 'Albania'\n",
        "display(mask_Albania)\n",
        "\n",
        "h2('Application of the mask to the table')\n",
        "display(spi2019[mask_Albania][indices[:7]])\n",
        "hr()\n",
        "\n",
        "h2('A mask that makes indicates India, Ireland, ..., and Japan')\n",
        "mask_india2japan = (spi2019['Country'] >= 'India') & (spi2019['Country'] <= 'Japan')\n",
        "\n",
        "h2('Application of the mask to the table')\n",
        "display(spi2019[mask_india2japan])\n",
        "# Note that the member states are not sorted according to their names.  We find Iraq and Isle of Man after Japan"
      ],
      "execution_count": 6,
      "outputs": [
        {
          "output_type": "display_data",
          "data": {
            "text/html": [
              "<hr/>"
            ],
            "text/plain": [
              "<IPython.core.display.HTML object>"
            ]
          },
          "metadata": {
            "tags": []
          }
        },
        {
          "output_type": "display_data",
          "data": {
            "text/html": [
              "<h2>SPI indices</h2>"
            ],
            "text/plain": [
              "<IPython.core.display.HTML object>"
            ]
          },
          "metadata": {
            "tags": []
          }
        },
        {
          "output_type": "display_data",
          "data": {
            "text/plain": [
              "0      64.47\n",
              "1      38.60\n",
              "2      71.57\n",
              "3      67.06\n",
              "       ...  \n",
              "235      NaN\n",
              "236      NaN\n",
              "237      NaN\n",
              "238      NaN\n",
              "Name: Social Progress Index, Length: 239, dtype: float64"
            ]
          },
          "metadata": {
            "tags": []
          }
        },
        {
          "output_type": "display_data",
          "data": {
            "text/html": [
              "<hr/>"
            ],
            "text/plain": [
              "<IPython.core.display.HTML object>"
            ]
          },
          "metadata": {
            "tags": []
          }
        },
        {
          "output_type": "display_data",
          "data": {
            "text/html": [
              "<h2>The mask that matches a member state whose name is \"Albania\"</h2>"
            ],
            "text/plain": [
              "<IPython.core.display.HTML object>"
            ]
          },
          "metadata": {
            "tags": []
          }
        },
        {
          "output_type": "display_data",
          "data": {
            "text/plain": [
              "0      False\n",
              "1      False\n",
              "2       True\n",
              "3      False\n",
              "       ...  \n",
              "235    False\n",
              "236    False\n",
              "237    False\n",
              "238    False\n",
              "Name: Country, Length: 239, dtype: bool"
            ]
          },
          "metadata": {
            "tags": []
          }
        },
        {
          "output_type": "display_data",
          "data": {
            "text/html": [
              "<hr/>"
            ],
            "text/plain": [
              "<IPython.core.display.HTML object>"
            ]
          },
          "metadata": {
            "tags": []
          }
        },
        {
          "output_type": "display_data",
          "data": {
            "text/html": [
              "<h2>Application of the mask to the table</h2>"
            ],
            "text/plain": [
              "<IPython.core.display.HTML object>"
            ]
          },
          "metadata": {
            "tags": []
          }
        },
        {
          "output_type": "display_data",
          "data": {
            "text/html": [
              "<div>\n",
              "<style scoped>\n",
              "    .dataframe tbody tr th:only-of-type {\n",
              "        vertical-align: middle;\n",
              "    }\n",
              "\n",
              "    .dataframe tbody tr th {\n",
              "        vertical-align: top;\n",
              "    }\n",
              "\n",
              "    .dataframe thead th {\n",
              "        text-align: right;\n",
              "    }\n",
              "</style>\n",
              "<table border=\"1\" class=\"dataframe\">\n",
              "  <thead>\n",
              "    <tr style=\"text-align: right;\">\n",
              "      <th></th>\n",
              "      <th>2019 ranking</th>\n",
              "      <th>Country</th>\n",
              "      <th>Code</th>\n",
              "      <th>Status</th>\n",
              "      <th>Social Progress Index</th>\n",
              "      <th>Basic Human Needs</th>\n",
              "      <th>Foundations of Wellbeing</th>\n",
              "    </tr>\n",
              "  </thead>\n",
              "  <tbody>\n",
              "    <tr>\n",
              "      <th>2</th>\n",
              "      <td>54.0</td>\n",
              "      <td>Albania</td>\n",
              "      <td>ALB</td>\n",
              "      <td>Ranked</td>\n",
              "      <td>71.57</td>\n",
              "      <td>85.03</td>\n",
              "      <td>79.03</td>\n",
              "    </tr>\n",
              "  </tbody>\n",
              "</table>\n",
              "</div>"
            ],
            "text/plain": [
              "   2019 ranking  Country  ... Basic Human Needs Foundations of Wellbeing\n",
              "2          54.0  Albania  ...             85.03                    79.03\n",
              "\n",
              "[1 rows x 7 columns]"
            ]
          },
          "metadata": {
            "tags": []
          }
        },
        {
          "output_type": "display_data",
          "data": {
            "text/html": [
              "<hr/>"
            ],
            "text/plain": [
              "<IPython.core.display.HTML object>"
            ]
          },
          "metadata": {
            "tags": []
          }
        },
        {
          "output_type": "display_data",
          "data": {
            "text/html": [
              "<hr/>"
            ],
            "text/plain": [
              "<IPython.core.display.HTML object>"
            ]
          },
          "metadata": {
            "tags": []
          }
        },
        {
          "output_type": "display_data",
          "data": {
            "text/html": [
              "<h2>A mask that makes indicates India, Ireland, ..., and Japan</h2>"
            ],
            "text/plain": [
              "<IPython.core.display.HTML object>"
            ]
          },
          "metadata": {
            "tags": []
          }
        },
        {
          "output_type": "display_data",
          "data": {
            "text/html": [
              "<hr/>"
            ],
            "text/plain": [
              "<IPython.core.display.HTML object>"
            ]
          },
          "metadata": {
            "tags": []
          }
        },
        {
          "output_type": "display_data",
          "data": {
            "text/html": [
              "<h2>Application of the mask to the table</h2>"
            ],
            "text/plain": [
              "<IPython.core.display.HTML object>"
            ]
          },
          "metadata": {
            "tags": []
          }
        },
        {
          "output_type": "display_data",
          "data": {
            "text/html": [
              "<div>\n",
              "<style scoped>\n",
              "    .dataframe tbody tr th:only-of-type {\n",
              "        vertical-align: middle;\n",
              "    }\n",
              "\n",
              "    .dataframe tbody tr th {\n",
              "        vertical-align: top;\n",
              "    }\n",
              "\n",
              "    .dataframe thead th {\n",
              "        text-align: right;\n",
              "    }\n",
              "</style>\n",
              "<table border=\"1\" class=\"dataframe\">\n",
              "  <thead>\n",
              "    <tr style=\"text-align: right;\">\n",
              "      <th></th>\n",
              "      <th>2019 ranking</th>\n",
              "      <th>Country</th>\n",
              "      <th>Code</th>\n",
              "      <th>Status</th>\n",
              "      <th>Social Progress Index</th>\n",
              "      <th>Basic Human Needs</th>\n",
              "      <th>Foundations of Wellbeing</th>\n",
              "      <th>Opportunity</th>\n",
              "      <th>Nutrition and Basic Medical Care</th>\n",
              "      <th>Water and Sanitation</th>\n",
              "      <th>Shelter</th>\n",
              "      <th>Personal Safety</th>\n",
              "      <th>Access to Basic Knowledge</th>\n",
              "      <th>Access to Information and Communications</th>\n",
              "      <th>Health and Wellness</th>\n",
              "      <th>Environmental Quality</th>\n",
              "      <th>Personal Rights</th>\n",
              "      <th>Personal Freedom and Choice</th>\n",
              "      <th>Inclusiveness</th>\n",
              "      <th>Access to Advanced Education</th>\n",
              "      <th>Undernourishment (% of pop.)</th>\n",
              "      <th>Maternal mortality rate (deaths/100,000 live births)</th>\n",
              "      <th>Child mortality rate (deaths/1,000 live births)</th>\n",
              "      <th>Child stunting (% of children)</th>\n",
              "      <th>Deaths from infectious diseases (deaths/100,000 people)</th>\n",
              "      <th>Access to at least basic drinking water (% of pop.)</th>\n",
              "      <th>Access to piped water (% of pop.)</th>\n",
              "      <th>Access to at least basic sanitation facilities (% of pop.)</th>\n",
              "      <th>Rural open defecation (% of pop.)</th>\n",
              "      <th>Access to electricity (% of pop.)</th>\n",
              "      <th>Quality of electricity supply (1=low; 7=high)</th>\n",
              "      <th>Household air pollution attributable deaths (deaths/100,000 people)</th>\n",
              "      <th>Access to clean fuels and technology for cooking (% of pop.)</th>\n",
              "      <th>Homicide rate (deaths/100,000 people)</th>\n",
              "      <th>Perceived criminality (1=low; 5=high)</th>\n",
              "      <th>Political killings and torture (0=low freedom; 1=high freedom)</th>\n",
              "      <th>Traffic deaths (deaths/100,000 people)</th>\n",
              "      <th>Adult literacy rate (% of pop. aged 15+)</th>\n",
              "      <th>Primary school enrollment (% of children)</th>\n",
              "      <th>Secondary school enrollment (% of children)</th>\n",
              "      <th>Gender parity in secondary enrollment (distance from parity)</th>\n",
              "      <th>Access to quality education (0=unequal; 4=equal)</th>\n",
              "      <th>Mobile telephone subscriptions (subscriptions/100 people)</th>\n",
              "      <th>Internet users (% of pop.)</th>\n",
              "      <th>Access to online governance (0=low; 1=high)</th>\n",
              "      <th>Media censorship (0=frequent; 4=rare)</th>\n",
              "      <th>Life expectancy at 60 (years)</th>\n",
              "      <th>Premature deaths from non-communicable diseases (deaths/100,000 people)</th>\n",
              "      <th>Access to essential services  (0=none; 100=full coverage)</th>\n",
              "      <th>Access to quality healthcare (0=unequal; 4=equal)</th>\n",
              "      <th>Outdoor air pollution attributable deaths (deaths/100,000 people)</th>\n",
              "      <th>Greenhouse gas emissions (CO2 equivalents/GDP)</th>\n",
              "      <th>Biome protection</th>\n",
              "      <th>Political rights (0=no rights; 40=full rights)</th>\n",
              "      <th>Freedom of expression (0=no freedom; 1=full freedom)</th>\n",
              "      <th>Freedom of religion (0=no freedom; 4=full freedom)</th>\n",
              "      <th>Access to justice (0=non-existent; 1=observed)</th>\n",
              "      <th>Property rights for women (0=no rights; 5=full rights)</th>\n",
              "      <th>Vulnerable employment (% of employees)</th>\n",
              "      <th>Early marriage (% of women)</th>\n",
              "      <th>Satisfied demand for contraception (% of women)</th>\n",
              "      <th>Corruption (0=high; 100=low)</th>\n",
              "      <th>Acceptance of gays and lesbians (0=low; 100=high)</th>\n",
              "      <th>Discrimination and violence against minorities (1=low; 10=high)</th>\n",
              "      <th>Equality of political power by gender (0=unequal power; 4=equal power)</th>\n",
              "      <th>Equality of political power by socioeconomic position (0=unequal power; 4=equal power)</th>\n",
              "      <th>Equality of political power by social group (0=unequal power; 4=equal power)</th>\n",
              "      <th>Years of tertiary schooling</th>\n",
              "      <th>Women's average years in school</th>\n",
              "      <th>Globally ranked universities (points)</th>\n",
              "      <th>Percent of tertiary students enrolled in globally ranked universities</th>\n",
              "    </tr>\n",
              "  </thead>\n",
              "  <tbody>\n",
              "    <tr>\n",
              "      <th>63</th>\n",
              "      <td>102.0</td>\n",
              "      <td>India</td>\n",
              "      <td>IND</td>\n",
              "      <td>Ranked</td>\n",
              "      <td>59.10</td>\n",
              "      <td>67.72</td>\n",
              "      <td>58.94</td>\n",
              "      <td>50.63</td>\n",
              "      <td>72.52</td>\n",
              "      <td>63.49</td>\n",
              "      <td>71.35</td>\n",
              "      <td>63.52</td>\n",
              "      <td>73.30</td>\n",
              "      <td>69.09</td>\n",
              "      <td>47.99</td>\n",
              "      <td>45.38</td>\n",
              "      <td>75.48</td>\n",
              "      <td>49.26</td>\n",
              "      <td>46.81</td>\n",
              "      <td>30.97</td>\n",
              "      <td>14.8</td>\n",
              "      <td>159.626</td>\n",
              "      <td>39.4</td>\n",
              "      <td>39.326</td>\n",
              "      <td>215.7780</td>\n",
              "      <td>92.6746</td>\n",
              "      <td>43.7424</td>\n",
              "      <td>59.5434</td>\n",
              "      <td>36.3457</td>\n",
              "      <td>92.6187</td>\n",
              "      <td>4.67823</td>\n",
              "      <td>51.027400</td>\n",
              "      <td>41.04</td>\n",
              "      <td>3.223700</td>\n",
              "      <td>4.0</td>\n",
              "      <td>0.706</td>\n",
              "      <td>19.19190</td>\n",
              "      <td>69.3026</td>\n",
              "      <td>97.7300</td>\n",
              "      <td>61.7681</td>\n",
              "      <td>1.01659</td>\n",
              "      <td>0.975</td>\n",
              "      <td>87.2849</td>\n",
              "      <td>34.4500</td>\n",
              "      <td>0.9551</td>\n",
              "      <td>1.873</td>\n",
              "      <td>17.9072</td>\n",
              "      <td>494.029</td>\n",
              "      <td>56.786</td>\n",
              "      <td>1.076</td>\n",
              "      <td>70.8034</td>\n",
              "      <td>352.601</td>\n",
              "      <td>5.10470</td>\n",
              "      <td>35.0</td>\n",
              "      <td>0.650</td>\n",
              "      <td>2.714</td>\n",
              "      <td>0.688</td>\n",
              "      <td>4.390</td>\n",
              "      <td>76.695</td>\n",
              "      <td>22.0</td>\n",
              "      <td>67.7</td>\n",
              "      <td>41.0</td>\n",
              "      <td>43.3094</td>\n",
              "      <td>8.0</td>\n",
              "      <td>2.130</td>\n",
              "      <td>2.034</td>\n",
              "      <td>2.259</td>\n",
              "      <td>1.37702</td>\n",
              "      <td>4.8</td>\n",
              "      <td>66.0</td>\n",
              "      <td>0.0</td>\n",
              "    </tr>\n",
              "    <tr>\n",
              "      <th>64</th>\n",
              "      <td>85.0</td>\n",
              "      <td>Indonesia</td>\n",
              "      <td>IDN</td>\n",
              "      <td>Ranked</td>\n",
              "      <td>65.52</td>\n",
              "      <td>74.43</td>\n",
              "      <td>69.23</td>\n",
              "      <td>52.92</td>\n",
              "      <td>78.92</td>\n",
              "      <td>65.19</td>\n",
              "      <td>76.76</td>\n",
              "      <td>76.84</td>\n",
              "      <td>82.26</td>\n",
              "      <td>67.87</td>\n",
              "      <td>55.18</td>\n",
              "      <td>71.60</td>\n",
              "      <td>78.25</td>\n",
              "      <td>61.04</td>\n",
              "      <td>39.96</td>\n",
              "      <td>32.42</td>\n",
              "      <td>7.7</td>\n",
              "      <td>164.405</td>\n",
              "      <td>25.4</td>\n",
              "      <td>34.311</td>\n",
              "      <td>142.1940</td>\n",
              "      <td>89.3440</td>\n",
              "      <td>18.2823</td>\n",
              "      <td>73.1284</td>\n",
              "      <td>16.6583</td>\n",
              "      <td>98.1400</td>\n",
              "      <td>4.43279</td>\n",
              "      <td>36.497000</td>\n",
              "      <td>58.37</td>\n",
              "      <td>0.495068</td>\n",
              "      <td>3.0</td>\n",
              "      <td>0.763</td>\n",
              "      <td>15.51430</td>\n",
              "      <td>95.3770</td>\n",
              "      <td>92.7346</td>\n",
              "      <td>76.8070</td>\n",
              "      <td>1.02937</td>\n",
              "      <td>1.434</td>\n",
              "      <td>164.8510</td>\n",
              "      <td>32.2924</td>\n",
              "      <td>0.6180</td>\n",
              "      <td>2.967</td>\n",
              "      <td>18.2975</td>\n",
              "      <td>506.745</td>\n",
              "      <td>61.768</td>\n",
              "      <td>2.430</td>\n",
              "      <td>27.4589</td>\n",
              "      <td>239.750</td>\n",
              "      <td>11.86970</td>\n",
              "      <td>30.0</td>\n",
              "      <td>0.786</td>\n",
              "      <td>3.133</td>\n",
              "      <td>0.712</td>\n",
              "      <td>4.298</td>\n",
              "      <td>47.222</td>\n",
              "      <td>14.0</td>\n",
              "      <td>79.1</td>\n",
              "      <td>38.0</td>\n",
              "      <td>9.3373</td>\n",
              "      <td>7.3</td>\n",
              "      <td>1.832</td>\n",
              "      <td>1.811</td>\n",
              "      <td>2.416</td>\n",
              "      <td>1.85424</td>\n",
              "      <td>7.5</td>\n",
              "      <td>12.0</td>\n",
              "      <td>5.0</td>\n",
              "    </tr>\n",
              "    <tr>\n",
              "      <th>65</th>\n",
              "      <td>86.0</td>\n",
              "      <td>Iran</td>\n",
              "      <td>IRN</td>\n",
              "      <td>Ranked</td>\n",
              "      <td>65.15</td>\n",
              "      <td>84.16</td>\n",
              "      <td>68.35</td>\n",
              "      <td>42.94</td>\n",
              "      <td>93.58</td>\n",
              "      <td>92.97</td>\n",
              "      <td>91.58</td>\n",
              "      <td>58.53</td>\n",
              "      <td>87.00</td>\n",
              "      <td>62.20</td>\n",
              "      <td>71.13</td>\n",
              "      <td>53.06</td>\n",
              "      <td>38.88</td>\n",
              "      <td>54.95</td>\n",
              "      <td>30.44</td>\n",
              "      <td>47.48</td>\n",
              "      <td>4.9</td>\n",
              "      <td>23.267</td>\n",
              "      <td>14.9</td>\n",
              "      <td>10.496</td>\n",
              "      <td>22.9313</td>\n",
              "      <td>95.2445</td>\n",
              "      <td>92.3898</td>\n",
              "      <td>88.4219</td>\n",
              "      <td>1.6844</td>\n",
              "      <td>100.0000</td>\n",
              "      <td>4.97625</td>\n",
              "      <td>0.270712</td>\n",
              "      <td>98.49</td>\n",
              "      <td>2.469040</td>\n",
              "      <td>3.0</td>\n",
              "      <td>0.219</td>\n",
              "      <td>27.62660</td>\n",
              "      <td>85.5443</td>\n",
              "      <td>98.6638</td>\n",
              "      <td>84.0500</td>\n",
              "      <td>1.01583</td>\n",
              "      <td>2.340</td>\n",
              "      <td>107.2500</td>\n",
              "      <td>60.4164</td>\n",
              "      <td>0.5281</td>\n",
              "      <td>0.293</td>\n",
              "      <td>21.9846</td>\n",
              "      <td>287.193</td>\n",
              "      <td>76.705</td>\n",
              "      <td>2.610</td>\n",
              "      <td>43.6916</td>\n",
              "      <td>589.920</td>\n",
              "      <td>6.97836</td>\n",
              "      <td>7.0</td>\n",
              "      <td>0.299</td>\n",
              "      <td>1.297</td>\n",
              "      <td>0.417</td>\n",
              "      <td>3.255</td>\n",
              "      <td>41.242</td>\n",
              "      <td>21.0</td>\n",
              "      <td>73.8</td>\n",
              "      <td>28.0</td>\n",
              "      <td>NaN</td>\n",
              "      <td>9.5</td>\n",
              "      <td>1.884</td>\n",
              "      <td>1.840</td>\n",
              "      <td>1.403</td>\n",
              "      <td>3.11816</td>\n",
              "      <td>9.7</td>\n",
              "      <td>32.0</td>\n",
              "      <td>10.0</td>\n",
              "    </tr>\n",
              "    <tr>\n",
              "      <th>66</th>\n",
              "      <td>14.0</td>\n",
              "      <td>Ireland</td>\n",
              "      <td>IRL</td>\n",
              "      <td>Ranked</td>\n",
              "      <td>87.97</td>\n",
              "      <td>94.89</td>\n",
              "      <td>88.93</td>\n",
              "      <td>80.10</td>\n",
              "      <td>98.41</td>\n",
              "      <td>96.19</td>\n",
              "      <td>97.23</td>\n",
              "      <td>87.73</td>\n",
              "      <td>97.76</td>\n",
              "      <td>93.20</td>\n",
              "      <td>83.82</td>\n",
              "      <td>80.95</td>\n",
              "      <td>94.27</td>\n",
              "      <td>86.82</td>\n",
              "      <td>74.91</td>\n",
              "      <td>64.41</td>\n",
              "      <td>2.5</td>\n",
              "      <td>3.935</td>\n",
              "      <td>3.5</td>\n",
              "      <td>2.630</td>\n",
              "      <td>19.7092</td>\n",
              "      <td>97.3945</td>\n",
              "      <td>97.3773</td>\n",
              "      <td>91.2452</td>\n",
              "      <td>0.0000</td>\n",
              "      <td>100.0000</td>\n",
              "      <td>6.31630</td>\n",
              "      <td>0.230139</td>\n",
              "      <td>100.00</td>\n",
              "      <td>0.802080</td>\n",
              "      <td>2.0</td>\n",
              "      <td>0.873</td>\n",
              "      <td>3.73810</td>\n",
              "      <td>99.0000</td>\n",
              "      <td>99.9884</td>\n",
              "      <td>98.1407</td>\n",
              "      <td>1.02681</td>\n",
              "      <td>3.486</td>\n",
              "      <td>102.8820</td>\n",
              "      <td>84.5154</td>\n",
              "      <td>0.9326</td>\n",
              "      <td>3.769</td>\n",
              "      <td>24.2446</td>\n",
              "      <td>199.839</td>\n",
              "      <td>94.483</td>\n",
              "      <td>3.107</td>\n",
              "      <td>13.2088</td>\n",
              "      <td>209.626</td>\n",
              "      <td>14.72590</td>\n",
              "      <td>39.0</td>\n",
              "      <td>0.965</td>\n",
              "      <td>3.426</td>\n",
              "      <td>0.963</td>\n",
              "      <td>4.797</td>\n",
              "      <td>10.855</td>\n",
              "      <td>0.0</td>\n",
              "      <td>87.1</td>\n",
              "      <td>73.0</td>\n",
              "      <td>82.1210</td>\n",
              "      <td>1.0</td>\n",
              "      <td>2.347</td>\n",
              "      <td>2.697</td>\n",
              "      <td>3.199</td>\n",
              "      <td>3.51982</td>\n",
              "      <td>12.7</td>\n",
              "      <td>15.0</td>\n",
              "      <td>55.0</td>\n",
              "    </tr>\n",
              "    <tr>\n",
              "      <th>...</th>\n",
              "      <td>...</td>\n",
              "      <td>...</td>\n",
              "      <td>...</td>\n",
              "      <td>...</td>\n",
              "      <td>...</td>\n",
              "      <td>...</td>\n",
              "      <td>...</td>\n",
              "      <td>...</td>\n",
              "      <td>...</td>\n",
              "      <td>...</td>\n",
              "      <td>...</td>\n",
              "      <td>...</td>\n",
              "      <td>...</td>\n",
              "      <td>...</td>\n",
              "      <td>...</td>\n",
              "      <td>...</td>\n",
              "      <td>...</td>\n",
              "      <td>...</td>\n",
              "      <td>...</td>\n",
              "      <td>...</td>\n",
              "      <td>...</td>\n",
              "      <td>...</td>\n",
              "      <td>...</td>\n",
              "      <td>...</td>\n",
              "      <td>...</td>\n",
              "      <td>...</td>\n",
              "      <td>...</td>\n",
              "      <td>...</td>\n",
              "      <td>...</td>\n",
              "      <td>...</td>\n",
              "      <td>...</td>\n",
              "      <td>...</td>\n",
              "      <td>...</td>\n",
              "      <td>...</td>\n",
              "      <td>...</td>\n",
              "      <td>...</td>\n",
              "      <td>...</td>\n",
              "      <td>...</td>\n",
              "      <td>...</td>\n",
              "      <td>...</td>\n",
              "      <td>...</td>\n",
              "      <td>...</td>\n",
              "      <td>...</td>\n",
              "      <td>...</td>\n",
              "      <td>...</td>\n",
              "      <td>...</td>\n",
              "      <td>...</td>\n",
              "      <td>...</td>\n",
              "      <td>...</td>\n",
              "      <td>...</td>\n",
              "      <td>...</td>\n",
              "      <td>...</td>\n",
              "      <td>...</td>\n",
              "      <td>...</td>\n",
              "      <td>...</td>\n",
              "      <td>...</td>\n",
              "      <td>...</td>\n",
              "      <td>...</td>\n",
              "      <td>...</td>\n",
              "      <td>...</td>\n",
              "      <td>...</td>\n",
              "      <td>...</td>\n",
              "      <td>...</td>\n",
              "      <td>...</td>\n",
              "      <td>...</td>\n",
              "      <td>...</td>\n",
              "      <td>...</td>\n",
              "      <td>...</td>\n",
              "      <td>...</td>\n",
              "      <td>...</td>\n",
              "      <td>...</td>\n",
              "    </tr>\n",
              "    <tr>\n",
              "      <th>69</th>\n",
              "      <td>50.0</td>\n",
              "      <td>Jamaica</td>\n",
              "      <td>JAM</td>\n",
              "      <td>Ranked</td>\n",
              "      <td>72.58</td>\n",
              "      <td>81.30</td>\n",
              "      <td>68.80</td>\n",
              "      <td>67.65</td>\n",
              "      <td>91.33</td>\n",
              "      <td>89.30</td>\n",
              "      <td>88.07</td>\n",
              "      <td>56.50</td>\n",
              "      <td>78.07</td>\n",
              "      <td>66.67</td>\n",
              "      <td>62.51</td>\n",
              "      <td>67.92</td>\n",
              "      <td>90.01</td>\n",
              "      <td>68.88</td>\n",
              "      <td>69.44</td>\n",
              "      <td>42.26</td>\n",
              "      <td>8.9</td>\n",
              "      <td>73.625</td>\n",
              "      <td>15.2</td>\n",
              "      <td>7.603</td>\n",
              "      <td>39.8235</td>\n",
              "      <td>90.6484</td>\n",
              "      <td>83.8264</td>\n",
              "      <td>87.3126</td>\n",
              "      <td>0.0000</td>\n",
              "      <td>99.5064</td>\n",
              "      <td>4.79449</td>\n",
              "      <td>9.145150</td>\n",
              "      <td>90.50</td>\n",
              "      <td>47.011100</td>\n",
              "      <td>4.0</td>\n",
              "      <td>0.822</td>\n",
              "      <td>9.71395</td>\n",
              "      <td>88.1000</td>\n",
              "      <td>NaN</td>\n",
              "      <td>74.0518</td>\n",
              "      <td>1.05875</td>\n",
              "      <td>1.012</td>\n",
              "      <td>106.9520</td>\n",
              "      <td>48.7810</td>\n",
              "      <td>0.3146</td>\n",
              "      <td>3.602</td>\n",
              "      <td>20.7145</td>\n",
              "      <td>422.677</td>\n",
              "      <td>70.647</td>\n",
              "      <td>2.189</td>\n",
              "      <td>31.3099</td>\n",
              "      <td>436.709</td>\n",
              "      <td>14.40130</td>\n",
              "      <td>34.0</td>\n",
              "      <td>0.925</td>\n",
              "      <td>3.816</td>\n",
              "      <td>0.778</td>\n",
              "      <td>4.836</td>\n",
              "      <td>35.729</td>\n",
              "      <td>4.0</td>\n",
              "      <td>76.2</td>\n",
              "      <td>44.0</td>\n",
              "      <td>21.7661</td>\n",
              "      <td>2.8</td>\n",
              "      <td>3.182</td>\n",
              "      <td>3.107</td>\n",
              "      <td>3.106</td>\n",
              "      <td>1.34396</td>\n",
              "      <td>10.0</td>\n",
              "      <td>1.0</td>\n",
              "      <td>60.0</td>\n",
              "    </tr>\n",
              "    <tr>\n",
              "      <th>70</th>\n",
              "      <td>10.0</td>\n",
              "      <td>Japan</td>\n",
              "      <td>JPN</td>\n",
              "      <td>Ranked</td>\n",
              "      <td>88.34</td>\n",
              "      <td>97.72</td>\n",
              "      <td>91.04</td>\n",
              "      <td>76.26</td>\n",
              "      <td>96.83</td>\n",
              "      <td>99.08</td>\n",
              "      <td>98.65</td>\n",
              "      <td>96.32</td>\n",
              "      <td>98.69</td>\n",
              "      <td>92.23</td>\n",
              "      <td>90.93</td>\n",
              "      <td>82.31</td>\n",
              "      <td>94.45</td>\n",
              "      <td>81.57</td>\n",
              "      <td>64.47</td>\n",
              "      <td>64.56</td>\n",
              "      <td>2.5</td>\n",
              "      <td>5.055</td>\n",
              "      <td>2.6</td>\n",
              "      <td>8.498</td>\n",
              "      <td>25.0126</td>\n",
              "      <td>99.0102</td>\n",
              "      <td>97.8971</td>\n",
              "      <td>99.8947</td>\n",
              "      <td>NaN</td>\n",
              "      <td>100.0000</td>\n",
              "      <td>6.66441</td>\n",
              "      <td>0.026307</td>\n",
              "      <td>100.00</td>\n",
              "      <td>0.283523</td>\n",
              "      <td>1.0</td>\n",
              "      <td>0.949</td>\n",
              "      <td>4.13761</td>\n",
              "      <td>99.0000</td>\n",
              "      <td>98.2352</td>\n",
              "      <td>99.3945</td>\n",
              "      <td>1.00642</td>\n",
              "      <td>3.867</td>\n",
              "      <td>135.5380</td>\n",
              "      <td>90.8730</td>\n",
              "      <td>0.9831</td>\n",
              "      <td>2.770</td>\n",
              "      <td>26.4685</td>\n",
              "      <td>160.581</td>\n",
              "      <td>93.685</td>\n",
              "      <td>3.839</td>\n",
              "      <td>10.2929</td>\n",
              "      <td>270.686</td>\n",
              "      <td>17.00000</td>\n",
              "      <td>40.0</td>\n",
              "      <td>0.853</td>\n",
              "      <td>3.791</td>\n",
              "      <td>0.964</td>\n",
              "      <td>4.815</td>\n",
              "      <td>8.393</td>\n",
              "      <td>1.0</td>\n",
              "      <td>66.4</td>\n",
              "      <td>73.0</td>\n",
              "      <td>35.4924</td>\n",
              "      <td>3.1</td>\n",
              "      <td>2.062</td>\n",
              "      <td>3.127</td>\n",
              "      <td>3.255</td>\n",
              "      <td>3.17921</td>\n",
              "      <td>12.9</td>\n",
              "      <td>123.0</td>\n",
              "      <td>30.0</td>\n",
              "    </tr>\n",
              "    <tr>\n",
              "      <th>159</th>\n",
              "      <td>NaN</td>\n",
              "      <td>Iraq</td>\n",
              "      <td>IRQ</td>\n",
              "      <td>Partial</td>\n",
              "      <td>NaN</td>\n",
              "      <td>79.49</td>\n",
              "      <td>NaN</td>\n",
              "      <td>38.30</td>\n",
              "      <td>81.77</td>\n",
              "      <td>92.37</td>\n",
              "      <td>93.68</td>\n",
              "      <td>50.13</td>\n",
              "      <td>NaN</td>\n",
              "      <td>56.54</td>\n",
              "      <td>67.54</td>\n",
              "      <td>50.63</td>\n",
              "      <td>48.36</td>\n",
              "      <td>51.18</td>\n",
              "      <td>31.83</td>\n",
              "      <td>21.83</td>\n",
              "      <td>27.7</td>\n",
              "      <td>21.964</td>\n",
              "      <td>30.4</td>\n",
              "      <td>21.426</td>\n",
              "      <td>21.0346</td>\n",
              "      <td>96.5335</td>\n",
              "      <td>79.5215</td>\n",
              "      <td>94.1210</td>\n",
              "      <td>0.0000</td>\n",
              "      <td>100.0000</td>\n",
              "      <td>NaN</td>\n",
              "      <td>0.206546</td>\n",
              "      <td>97.63</td>\n",
              "      <td>9.854460</td>\n",
              "      <td>5.0</td>\n",
              "      <td>0.353</td>\n",
              "      <td>9.93710</td>\n",
              "      <td>43.6833</td>\n",
              "      <td>NaN</td>\n",
              "      <td>NaN</td>\n",
              "      <td>NaN</td>\n",
              "      <td>1.517</td>\n",
              "      <td>87.3051</td>\n",
              "      <td>49.3600</td>\n",
              "      <td>0.3371</td>\n",
              "      <td>1.863</td>\n",
              "      <td>24.0149</td>\n",
              "      <td>273.962</td>\n",
              "      <td>71.069</td>\n",
              "      <td>1.257</td>\n",
              "      <td>41.6223</td>\n",
              "      <td>428.419</td>\n",
              "      <td>1.46494</td>\n",
              "      <td>17.0</td>\n",
              "      <td>0.500</td>\n",
              "      <td>2.285</td>\n",
              "      <td>0.338</td>\n",
              "      <td>2.767</td>\n",
              "      <td>25.854</td>\n",
              "      <td>20.0</td>\n",
              "      <td>55.9</td>\n",
              "      <td>18.0</td>\n",
              "      <td>9.5090</td>\n",
              "      <td>8.8</td>\n",
              "      <td>1.120</td>\n",
              "      <td>1.729</td>\n",
              "      <td>2.348</td>\n",
              "      <td>NaN</td>\n",
              "      <td>5.4</td>\n",
              "      <td>4.0</td>\n",
              "      <td>40.0</td>\n",
              "    </tr>\n",
              "    <tr>\n",
              "      <th>229</th>\n",
              "      <td>NaN</td>\n",
              "      <td>Isle of Man</td>\n",
              "      <td>IMN</td>\n",
              "      <td>Indicators only</td>\n",
              "      <td>NaN</td>\n",
              "      <td>NaN</td>\n",
              "      <td>NaN</td>\n",
              "      <td>NaN</td>\n",
              "      <td>NaN</td>\n",
              "      <td>NaN</td>\n",
              "      <td>NaN</td>\n",
              "      <td>NaN</td>\n",
              "      <td>NaN</td>\n",
              "      <td>NaN</td>\n",
              "      <td>NaN</td>\n",
              "      <td>NaN</td>\n",
              "      <td>NaN</td>\n",
              "      <td>NaN</td>\n",
              "      <td>NaN</td>\n",
              "      <td>NaN</td>\n",
              "      <td>NaN</td>\n",
              "      <td>NaN</td>\n",
              "      <td>NaN</td>\n",
              "      <td>NaN</td>\n",
              "      <td>NaN</td>\n",
              "      <td>99.0750</td>\n",
              "      <td>98.1500</td>\n",
              "      <td>NaN</td>\n",
              "      <td>NaN</td>\n",
              "      <td>100.0000</td>\n",
              "      <td>NaN</td>\n",
              "      <td>NaN</td>\n",
              "      <td>NaN</td>\n",
              "      <td>1.202400</td>\n",
              "      <td>NaN</td>\n",
              "      <td>NaN</td>\n",
              "      <td>NaN</td>\n",
              "      <td>NaN</td>\n",
              "      <td>NaN</td>\n",
              "      <td>NaN</td>\n",
              "      <td>NaN</td>\n",
              "      <td>NaN</td>\n",
              "      <td>NaN</td>\n",
              "      <td>NaN</td>\n",
              "      <td>NaN</td>\n",
              "      <td>NaN</td>\n",
              "      <td>NaN</td>\n",
              "      <td>NaN</td>\n",
              "      <td>NaN</td>\n",
              "      <td>NaN</td>\n",
              "      <td>NaN</td>\n",
              "      <td>NaN</td>\n",
              "      <td>4.59010</td>\n",
              "      <td>NaN</td>\n",
              "      <td>NaN</td>\n",
              "      <td>NaN</td>\n",
              "      <td>NaN</td>\n",
              "      <td>NaN</td>\n",
              "      <td>NaN</td>\n",
              "      <td>NaN</td>\n",
              "      <td>NaN</td>\n",
              "      <td>NaN</td>\n",
              "      <td>NaN</td>\n",
              "      <td>NaN</td>\n",
              "      <td>NaN</td>\n",
              "      <td>NaN</td>\n",
              "      <td>NaN</td>\n",
              "      <td>NaN</td>\n",
              "      <td>NaN</td>\n",
              "      <td>0.0</td>\n",
              "      <td>0.0</td>\n",
              "    </tr>\n",
              "  </tbody>\n",
              "</table>\n",
              "<p>10 rows × 71 columns</p>\n",
              "</div>"
            ],
            "text/plain": [
              "     2019 ranking  ... Percent of tertiary students enrolled in globally ranked universities\n",
              "63          102.0  ...                                                0.0                   \n",
              "64           85.0  ...                                                5.0                   \n",
              "65           86.0  ...                                               10.0                   \n",
              "66           14.0  ...                                               55.0                   \n",
              "..            ...  ...                                                ...                   \n",
              "69           50.0  ...                                               60.0                   \n",
              "70           10.0  ...                                               30.0                   \n",
              "159           NaN  ...                                               40.0                   \n",
              "229           NaN  ...                                                0.0                   \n",
              "\n",
              "[10 rows x 71 columns]"
            ]
          },
          "metadata": {
            "tags": []
          }
        }
      ]
    },
    {
      "cell_type": "markdown",
      "metadata": {
        "id": "gH9h3t1AhDFW"
      },
      "source": [
        "## Exercise\n",
        "\n",
        "1. Show the data for Japan and Norway\n",
        "\n",
        "1. Show the columns **Basic Human Needs**, **Foundations of Wellbeing**, **Opportunity** for Japan and Norway"
      ]
    },
    {
      "cell_type": "code",
      "metadata": {
        "id": "UqEH-EJGhDFW",
        "colab": {
          "base_uri": "https://localhost:8080/",
          "height": 167
        },
        "outputId": "2dcd7b0d-9a10-4976-8167-9a91f9b1aad3"
      },
      "source": [
        "h2('A mask for Japan and Norway')\r\n",
        "mask_JpnNor = (spi2019['Country'] == 'Japan') | (spi2019['Country'] == 'Norway')\r\n",
        "display(spi2019[mask_JpnNor][indices[:4] + indices[5:8]])"
      ],
      "execution_count": 20,
      "outputs": [
        {
          "output_type": "display_data",
          "data": {
            "text/html": [
              "<hr/>"
            ],
            "text/plain": [
              "<IPython.core.display.HTML object>"
            ]
          },
          "metadata": {
            "tags": []
          }
        },
        {
          "output_type": "display_data",
          "data": {
            "text/html": [
              "<h2>A mask for Japan and Norway</h2>"
            ],
            "text/plain": [
              "<IPython.core.display.HTML object>"
            ]
          },
          "metadata": {
            "tags": []
          }
        },
        {
          "output_type": "display_data",
          "data": {
            "text/html": [
              "<div>\n",
              "<style scoped>\n",
              "    .dataframe tbody tr th:only-of-type {\n",
              "        vertical-align: middle;\n",
              "    }\n",
              "\n",
              "    .dataframe tbody tr th {\n",
              "        vertical-align: top;\n",
              "    }\n",
              "\n",
              "    .dataframe thead th {\n",
              "        text-align: right;\n",
              "    }\n",
              "</style>\n",
              "<table border=\"1\" class=\"dataframe\">\n",
              "  <thead>\n",
              "    <tr style=\"text-align: right;\">\n",
              "      <th></th>\n",
              "      <th>2019 ranking</th>\n",
              "      <th>Country</th>\n",
              "      <th>Code</th>\n",
              "      <th>Status</th>\n",
              "      <th>Basic Human Needs</th>\n",
              "      <th>Foundations of Wellbeing</th>\n",
              "      <th>Opportunity</th>\n",
              "    </tr>\n",
              "  </thead>\n",
              "  <tbody>\n",
              "    <tr>\n",
              "      <th>70</th>\n",
              "      <td>10.0</td>\n",
              "      <td>Japan</td>\n",
              "      <td>JPN</td>\n",
              "      <td>Ranked</td>\n",
              "      <td>97.72</td>\n",
              "      <td>91.04</td>\n",
              "      <td>76.26</td>\n",
              "    </tr>\n",
              "    <tr>\n",
              "      <th>104</th>\n",
              "      <td>1.0</td>\n",
              "      <td>Norway</td>\n",
              "      <td>NOR</td>\n",
              "      <td>Ranked</td>\n",
              "      <td>96.89</td>\n",
              "      <td>92.32</td>\n",
              "      <td>83.64</td>\n",
              "    </tr>\n",
              "  </tbody>\n",
              "</table>\n",
              "</div>"
            ],
            "text/plain": [
              "     2019 ranking Country  ... Foundations of Wellbeing Opportunity\n",
              "70           10.0   Japan  ...                    91.04       76.26\n",
              "104           1.0  Norway  ...                    92.32       83.64\n",
              "\n",
              "[2 rows x 7 columns]"
            ]
          },
          "metadata": {
            "tags": []
          }
        }
      ]
    },
    {
      "cell_type": "markdown",
      "metadata": {
        "id": "jTz28102hDFW"
      },
      "source": [
        "## Maximum\n",
        "\n",
        "You can get the maximum values of the data frame or a column using the `max` method.  You can also get the row index of the data item that give the maximum value with the `idxmax` method.\n",
        "\n",
        "By using the `loc` method, you can retrieve multiple entries of the table.  For example, for row numbers $i, j, k$, you can get their row data by `spi2019.loc[[i, j, j]]`.\n",
        "\n",
        "以下の例が示すように、Social Progress Index について最高値となる国は Norway である。"
      ]
    },
    {
      "cell_type": "code",
      "metadata": {
        "id": "kE6s7v_whDFX",
        "colab": {
          "base_uri": "https://localhost:8080/",
          "height": 97
        },
        "outputId": "655bea02-beb7-4b85-b487-49b6b73a3e86"
      },
      "source": [
        "SPI = 'Social Progress Index'\n",
        "print(spi2019[SPI].max(), spi2019[SPI].idxmax())\n",
        "i = spi2019[SPI].idxmax()\n",
        "spi2019.loc[[i]][indices[:7]]"
      ],
      "execution_count": 22,
      "outputs": [
        {
          "output_type": "stream",
          "text": [
            "90.95 104\n"
          ],
          "name": "stdout"
        },
        {
          "output_type": "execute_result",
          "data": {
            "text/html": [
              "<div>\n",
              "<style scoped>\n",
              "    .dataframe tbody tr th:only-of-type {\n",
              "        vertical-align: middle;\n",
              "    }\n",
              "\n",
              "    .dataframe tbody tr th {\n",
              "        vertical-align: top;\n",
              "    }\n",
              "\n",
              "    .dataframe thead th {\n",
              "        text-align: right;\n",
              "    }\n",
              "</style>\n",
              "<table border=\"1\" class=\"dataframe\">\n",
              "  <thead>\n",
              "    <tr style=\"text-align: right;\">\n",
              "      <th></th>\n",
              "      <th>2019 ranking</th>\n",
              "      <th>Country</th>\n",
              "      <th>Code</th>\n",
              "      <th>Status</th>\n",
              "      <th>Social Progress Index</th>\n",
              "      <th>Basic Human Needs</th>\n",
              "      <th>Foundations of Wellbeing</th>\n",
              "    </tr>\n",
              "  </thead>\n",
              "  <tbody>\n",
              "    <tr>\n",
              "      <th>104</th>\n",
              "      <td>1.0</td>\n",
              "      <td>Norway</td>\n",
              "      <td>NOR</td>\n",
              "      <td>Ranked</td>\n",
              "      <td>90.95</td>\n",
              "      <td>96.89</td>\n",
              "      <td>92.32</td>\n",
              "    </tr>\n",
              "  </tbody>\n",
              "</table>\n",
              "</div>"
            ],
            "text/plain": [
              "     2019 ranking Country  ... Basic Human Needs Foundations of Wellbeing\n",
              "104           1.0  Norway  ...             96.89                    92.32\n",
              "\n",
              "[1 rows x 7 columns]"
            ]
          },
          "metadata": {
            "tags": []
          },
          "execution_count": 22
        }
      ]
    },
    {
      "cell_type": "markdown",
      "metadata": {
        "id": "DyJortk4hDFX"
      },
      "source": [
        "## Exercise\n",
        "\n",
        "For each of the following indices, find the member state that gives the maximum and minimum values.\n",
        "\n",
        "1. Social Progress Index\n",
        "\n",
        "1. Basic Human Needs\n",
        "\n",
        "1. Foundations of Wellbeing\n",
        "\n",
        "1. Opportunity"
      ]
    },
    {
      "cell_type": "code",
      "metadata": {
        "id": "YxarwNswhDFY",
        "colab": {
          "base_uri": "https://localhost:8080/",
          "height": 972
        },
        "outputId": "a9a75b2f-88d0-4734-e711-da56409427d9"
      },
      "source": [
        "for i in indices[4:8]:\r\n",
        "  h2('Maximum '+i)\r\n",
        "  display(spi2019.loc[[spi2019[i].idxmax()]][indices[:4]+[i]])\r\n",
        "  h2('Minimum '+i)\r\n",
        "  display(spi2019.loc[[spi2019[i].idxmin()]][indices[:4]+[i]])"
      ],
      "execution_count": 39,
      "outputs": [
        {
          "output_type": "display_data",
          "data": {
            "text/html": [
              "<hr/>"
            ],
            "text/plain": [
              "<IPython.core.display.HTML object>"
            ]
          },
          "metadata": {
            "tags": []
          }
        },
        {
          "output_type": "display_data",
          "data": {
            "text/html": [
              "<h2>Maximum Social Progress Index</h2>"
            ],
            "text/plain": [
              "<IPython.core.display.HTML object>"
            ]
          },
          "metadata": {
            "tags": []
          }
        },
        {
          "output_type": "display_data",
          "data": {
            "text/html": [
              "<div>\n",
              "<style scoped>\n",
              "    .dataframe tbody tr th:only-of-type {\n",
              "        vertical-align: middle;\n",
              "    }\n",
              "\n",
              "    .dataframe tbody tr th {\n",
              "        vertical-align: top;\n",
              "    }\n",
              "\n",
              "    .dataframe thead th {\n",
              "        text-align: right;\n",
              "    }\n",
              "</style>\n",
              "<table border=\"1\" class=\"dataframe\">\n",
              "  <thead>\n",
              "    <tr style=\"text-align: right;\">\n",
              "      <th></th>\n",
              "      <th>2019 ranking</th>\n",
              "      <th>Country</th>\n",
              "      <th>Code</th>\n",
              "      <th>Status</th>\n",
              "      <th>Social Progress Index</th>\n",
              "    </tr>\n",
              "  </thead>\n",
              "  <tbody>\n",
              "    <tr>\n",
              "      <th>104</th>\n",
              "      <td>1.0</td>\n",
              "      <td>Norway</td>\n",
              "      <td>NOR</td>\n",
              "      <td>Ranked</td>\n",
              "      <td>90.95</td>\n",
              "    </tr>\n",
              "  </tbody>\n",
              "</table>\n",
              "</div>"
            ],
            "text/plain": [
              "     2019 ranking Country Code  Status  Social Progress Index\n",
              "104           1.0  Norway  NOR  Ranked                  90.95"
            ]
          },
          "metadata": {
            "tags": []
          }
        },
        {
          "output_type": "display_data",
          "data": {
            "text/html": [
              "<hr/>"
            ],
            "text/plain": [
              "<IPython.core.display.HTML object>"
            ]
          },
          "metadata": {
            "tags": []
          }
        },
        {
          "output_type": "display_data",
          "data": {
            "text/html": [
              "<h2>Minimum Social Progress Index</h2>"
            ],
            "text/plain": [
              "<IPython.core.display.HTML object>"
            ]
          },
          "metadata": {
            "tags": []
          }
        },
        {
          "output_type": "display_data",
          "data": {
            "text/html": [
              "<div>\n",
              "<style scoped>\n",
              "    .dataframe tbody tr th:only-of-type {\n",
              "        vertical-align: middle;\n",
              "    }\n",
              "\n",
              "    .dataframe tbody tr th {\n",
              "        vertical-align: top;\n",
              "    }\n",
              "\n",
              "    .dataframe thead th {\n",
              "        text-align: right;\n",
              "    }\n",
              "</style>\n",
              "<table border=\"1\" class=\"dataframe\">\n",
              "  <thead>\n",
              "    <tr style=\"text-align: right;\">\n",
              "      <th></th>\n",
              "      <th>2019 ranking</th>\n",
              "      <th>Country</th>\n",
              "      <th>Code</th>\n",
              "      <th>Status</th>\n",
              "      <th>Social Progress Index</th>\n",
              "    </tr>\n",
              "  </thead>\n",
              "  <tbody>\n",
              "    <tr>\n",
              "      <th>128</th>\n",
              "      <td>149.0</td>\n",
              "      <td>South Sudan</td>\n",
              "      <td>SSD</td>\n",
              "      <td>Ranked</td>\n",
              "      <td>24.44</td>\n",
              "    </tr>\n",
              "  </tbody>\n",
              "</table>\n",
              "</div>"
            ],
            "text/plain": [
              "     2019 ranking      Country Code  Status  Social Progress Index\n",
              "128         149.0  South Sudan  SSD  Ranked                  24.44"
            ]
          },
          "metadata": {
            "tags": []
          }
        },
        {
          "output_type": "display_data",
          "data": {
            "text/html": [
              "<hr/>"
            ],
            "text/plain": [
              "<IPython.core.display.HTML object>"
            ]
          },
          "metadata": {
            "tags": []
          }
        },
        {
          "output_type": "display_data",
          "data": {
            "text/html": [
              "<h2>Maximum Basic Human Needs</h2>"
            ],
            "text/plain": [
              "<IPython.core.display.HTML object>"
            ]
          },
          "metadata": {
            "tags": []
          }
        },
        {
          "output_type": "display_data",
          "data": {
            "text/html": [
              "<div>\n",
              "<style scoped>\n",
              "    .dataframe tbody tr th:only-of-type {\n",
              "        vertical-align: middle;\n",
              "    }\n",
              "\n",
              "    .dataframe tbody tr th {\n",
              "        vertical-align: top;\n",
              "    }\n",
              "\n",
              "    .dataframe thead th {\n",
              "        text-align: right;\n",
              "    }\n",
              "</style>\n",
              "<table border=\"1\" class=\"dataframe\">\n",
              "  <thead>\n",
              "    <tr style=\"text-align: right;\">\n",
              "      <th></th>\n",
              "      <th>2019 ranking</th>\n",
              "      <th>Country</th>\n",
              "      <th>Code</th>\n",
              "      <th>Status</th>\n",
              "      <th>Basic Human Needs</th>\n",
              "    </tr>\n",
              "  </thead>\n",
              "  <tbody>\n",
              "    <tr>\n",
              "      <th>124</th>\n",
              "      <td>27.0</td>\n",
              "      <td>Singapore</td>\n",
              "      <td>SGP</td>\n",
              "      <td>Ranked</td>\n",
              "      <td>98.39</td>\n",
              "    </tr>\n",
              "  </tbody>\n",
              "</table>\n",
              "</div>"
            ],
            "text/plain": [
              "     2019 ranking    Country Code  Status  Basic Human Needs\n",
              "124          27.0  Singapore  SGP  Ranked              98.39"
            ]
          },
          "metadata": {
            "tags": []
          }
        },
        {
          "output_type": "display_data",
          "data": {
            "text/html": [
              "<hr/>"
            ],
            "text/plain": [
              "<IPython.core.display.HTML object>"
            ]
          },
          "metadata": {
            "tags": []
          }
        },
        {
          "output_type": "display_data",
          "data": {
            "text/html": [
              "<h2>Minimum Basic Human Needs</h2>"
            ],
            "text/plain": [
              "<IPython.core.display.HTML object>"
            ]
          },
          "metadata": {
            "tags": []
          }
        },
        {
          "output_type": "display_data",
          "data": {
            "text/html": [
              "<div>\n",
              "<style scoped>\n",
              "    .dataframe tbody tr th:only-of-type {\n",
              "        vertical-align: middle;\n",
              "    }\n",
              "\n",
              "    .dataframe tbody tr th {\n",
              "        vertical-align: top;\n",
              "    }\n",
              "\n",
              "    .dataframe thead th {\n",
              "        text-align: right;\n",
              "    }\n",
              "</style>\n",
              "<table border=\"1\" class=\"dataframe\">\n",
              "  <thead>\n",
              "    <tr style=\"text-align: right;\">\n",
              "      <th></th>\n",
              "      <th>2019 ranking</th>\n",
              "      <th>Country</th>\n",
              "      <th>Code</th>\n",
              "      <th>Status</th>\n",
              "      <th>Basic Human Needs</th>\n",
              "    </tr>\n",
              "  </thead>\n",
              "  <tbody>\n",
              "    <tr>\n",
              "      <th>25</th>\n",
              "      <td>148.0</td>\n",
              "      <td>Central African Republic</td>\n",
              "      <td>CAF</td>\n",
              "      <td>Ranked</td>\n",
              "      <td>23.55</td>\n",
              "    </tr>\n",
              "  </tbody>\n",
              "</table>\n",
              "</div>"
            ],
            "text/plain": [
              "    2019 ranking                   Country Code  Status  Basic Human Needs\n",
              "25         148.0  Central African Republic  CAF  Ranked              23.55"
            ]
          },
          "metadata": {
            "tags": []
          }
        },
        {
          "output_type": "display_data",
          "data": {
            "text/html": [
              "<hr/>"
            ],
            "text/plain": [
              "<IPython.core.display.HTML object>"
            ]
          },
          "metadata": {
            "tags": []
          }
        },
        {
          "output_type": "display_data",
          "data": {
            "text/html": [
              "<h2>Maximum Foundations of Wellbeing</h2>"
            ],
            "text/plain": [
              "<IPython.core.display.HTML object>"
            ]
          },
          "metadata": {
            "tags": []
          }
        },
        {
          "output_type": "display_data",
          "data": {
            "text/html": [
              "<div>\n",
              "<style scoped>\n",
              "    .dataframe tbody tr th:only-of-type {\n",
              "        vertical-align: middle;\n",
              "    }\n",
              "\n",
              "    .dataframe tbody tr th {\n",
              "        vertical-align: top;\n",
              "    }\n",
              "\n",
              "    .dataframe thead th {\n",
              "        text-align: right;\n",
              "    }\n",
              "</style>\n",
              "<table border=\"1\" class=\"dataframe\">\n",
              "  <thead>\n",
              "    <tr style=\"text-align: right;\">\n",
              "      <th></th>\n",
              "      <th>2019 ranking</th>\n",
              "      <th>Country</th>\n",
              "      <th>Code</th>\n",
              "      <th>Status</th>\n",
              "      <th>Foundations of Wellbeing</th>\n",
              "    </tr>\n",
              "  </thead>\n",
              "  <tbody>\n",
              "    <tr>\n",
              "      <th>104</th>\n",
              "      <td>1.0</td>\n",
              "      <td>Norway</td>\n",
              "      <td>NOR</td>\n",
              "      <td>Ranked</td>\n",
              "      <td>92.32</td>\n",
              "    </tr>\n",
              "  </tbody>\n",
              "</table>\n",
              "</div>"
            ],
            "text/plain": [
              "     2019 ranking Country Code  Status  Foundations of Wellbeing\n",
              "104           1.0  Norway  NOR  Ranked                     92.32"
            ]
          },
          "metadata": {
            "tags": []
          }
        },
        {
          "output_type": "display_data",
          "data": {
            "text/html": [
              "<hr/>"
            ],
            "text/plain": [
              "<IPython.core.display.HTML object>"
            ]
          },
          "metadata": {
            "tags": []
          }
        },
        {
          "output_type": "display_data",
          "data": {
            "text/html": [
              "<h2>Minimum Foundations of Wellbeing</h2>"
            ],
            "text/plain": [
              "<IPython.core.display.HTML object>"
            ]
          },
          "metadata": {
            "tags": []
          }
        },
        {
          "output_type": "display_data",
          "data": {
            "text/html": [
              "<div>\n",
              "<style scoped>\n",
              "    .dataframe tbody tr th:only-of-type {\n",
              "        vertical-align: middle;\n",
              "    }\n",
              "\n",
              "    .dataframe tbody tr th {\n",
              "        vertical-align: top;\n",
              "    }\n",
              "\n",
              "    .dataframe thead th {\n",
              "        text-align: right;\n",
              "    }\n",
              "</style>\n",
              "<table border=\"1\" class=\"dataframe\">\n",
              "  <thead>\n",
              "    <tr style=\"text-align: right;\">\n",
              "      <th></th>\n",
              "      <th>2019 ranking</th>\n",
              "      <th>Country</th>\n",
              "      <th>Code</th>\n",
              "      <th>Status</th>\n",
              "      <th>Foundations of Wellbeing</th>\n",
              "    </tr>\n",
              "  </thead>\n",
              "  <tbody>\n",
              "    <tr>\n",
              "      <th>128</th>\n",
              "      <td>149.0</td>\n",
              "      <td>South Sudan</td>\n",
              "      <td>SSD</td>\n",
              "      <td>Ranked</td>\n",
              "      <td>26.28</td>\n",
              "    </tr>\n",
              "  </tbody>\n",
              "</table>\n",
              "</div>"
            ],
            "text/plain": [
              "     2019 ranking      Country Code  Status  Foundations of Wellbeing\n",
              "128         149.0  South Sudan  SSD  Ranked                     26.28"
            ]
          },
          "metadata": {
            "tags": []
          }
        },
        {
          "output_type": "display_data",
          "data": {
            "text/html": [
              "<hr/>"
            ],
            "text/plain": [
              "<IPython.core.display.HTML object>"
            ]
          },
          "metadata": {
            "tags": []
          }
        },
        {
          "output_type": "display_data",
          "data": {
            "text/html": [
              "<h2>Maximum Opportunity</h2>"
            ],
            "text/plain": [
              "<IPython.core.display.HTML object>"
            ]
          },
          "metadata": {
            "tags": []
          }
        },
        {
          "output_type": "display_data",
          "data": {
            "text/html": [
              "<div>\n",
              "<style scoped>\n",
              "    .dataframe tbody tr th:only-of-type {\n",
              "        vertical-align: middle;\n",
              "    }\n",
              "\n",
              "    .dataframe tbody tr th {\n",
              "        vertical-align: top;\n",
              "    }\n",
              "\n",
              "    .dataframe thead th {\n",
              "        text-align: right;\n",
              "    }\n",
              "</style>\n",
              "<table border=\"1\" class=\"dataframe\">\n",
              "  <thead>\n",
              "    <tr style=\"text-align: right;\">\n",
              "      <th></th>\n",
              "      <th>2019 ranking</th>\n",
              "      <th>Country</th>\n",
              "      <th>Code</th>\n",
              "      <th>Status</th>\n",
              "      <th>Opportunity</th>\n",
              "    </tr>\n",
              "  </thead>\n",
              "  <tbody>\n",
              "    <tr>\n",
              "      <th>104</th>\n",
              "      <td>1.0</td>\n",
              "      <td>Norway</td>\n",
              "      <td>NOR</td>\n",
              "      <td>Ranked</td>\n",
              "      <td>83.64</td>\n",
              "    </tr>\n",
              "  </tbody>\n",
              "</table>\n",
              "</div>"
            ],
            "text/plain": [
              "     2019 ranking Country Code  Status  Opportunity\n",
              "104           1.0  Norway  NOR  Ranked        83.64"
            ]
          },
          "metadata": {
            "tags": []
          }
        },
        {
          "output_type": "display_data",
          "data": {
            "text/html": [
              "<hr/>"
            ],
            "text/plain": [
              "<IPython.core.display.HTML object>"
            ]
          },
          "metadata": {
            "tags": []
          }
        },
        {
          "output_type": "display_data",
          "data": {
            "text/html": [
              "<h2>Minimum Opportunity</h2>"
            ],
            "text/plain": [
              "<IPython.core.display.HTML object>"
            ]
          },
          "metadata": {
            "tags": []
          }
        },
        {
          "output_type": "display_data",
          "data": {
            "text/html": [
              "<div>\n",
              "<style scoped>\n",
              "    .dataframe tbody tr th:only-of-type {\n",
              "        vertical-align: middle;\n",
              "    }\n",
              "\n",
              "    .dataframe tbody tr th {\n",
              "        vertical-align: top;\n",
              "    }\n",
              "\n",
              "    .dataframe thead th {\n",
              "        text-align: right;\n",
              "    }\n",
              "</style>\n",
              "<table border=\"1\" class=\"dataframe\">\n",
              "  <thead>\n",
              "    <tr style=\"text-align: right;\">\n",
              "      <th></th>\n",
              "      <th>2019 ranking</th>\n",
              "      <th>Country</th>\n",
              "      <th>Code</th>\n",
              "      <th>Status</th>\n",
              "      <th>Opportunity</th>\n",
              "    </tr>\n",
              "  </thead>\n",
              "  <tbody>\n",
              "    <tr>\n",
              "      <th>128</th>\n",
              "      <td>149.0</td>\n",
              "      <td>South Sudan</td>\n",
              "      <td>SSD</td>\n",
              "      <td>Ranked</td>\n",
              "      <td>14.9</td>\n",
              "    </tr>\n",
              "  </tbody>\n",
              "</table>\n",
              "</div>"
            ],
            "text/plain": [
              "     2019 ranking      Country Code  Status  Opportunity\n",
              "128         149.0  South Sudan  SSD  Ranked         14.9"
            ]
          },
          "metadata": {
            "tags": []
          }
        }
      ]
    },
    {
      "cell_type": "markdown",
      "metadata": {
        "id": "fHk_DpUMhDFY"
      },
      "source": [
        "## Exercise\n",
        "\n",
        "For the four indices in the previous excersize, calculate the mean ([mean](http://pandas.pydata.org/pandas-docs/stable/reference/api/pandas.DataFrame.mean.html#pandas.DataFrame.mean)) and the standard deviation([std](http://pandas.pydata.org/pandas-docs/stable/reference/api/pandas.DataFrame.std.html#pandas.DataFrame.std))."
      ]
    },
    {
      "cell_type": "code",
      "metadata": {
        "id": "75reK7ybhDFY",
        "colab": {
          "base_uri": "https://localhost:8080/",
          "height": 379
        },
        "outputId": "7f3e8a46-8402-49e1-a5ae-bafd57d4ca7a"
      },
      "source": [
        "for i in indices[4:8]:\r\n",
        "  h2(i)\r\n",
        "  print(\" Mean\", spi2019[i].mean(), \"\\n Standard Deviation\", spi2019[i].std())"
      ],
      "execution_count": 51,
      "outputs": [
        {
          "output_type": "display_data",
          "data": {
            "text/html": [
              "<hr/>"
            ],
            "text/plain": [
              "<IPython.core.display.HTML object>"
            ]
          },
          "metadata": {
            "tags": []
          }
        },
        {
          "output_type": "display_data",
          "data": {
            "text/html": [
              "<h2>Social Progress Index</h2>"
            ],
            "text/plain": [
              "<IPython.core.display.HTML object>"
            ]
          },
          "metadata": {
            "tags": []
          }
        },
        {
          "output_type": "stream",
          "text": [
            " Mean 65.85606666666666 \n",
            " Standard Deviation 15.859544747338777\n"
          ],
          "name": "stdout"
        },
        {
          "output_type": "display_data",
          "data": {
            "text/html": [
              "<hr/>"
            ],
            "text/plain": [
              "<IPython.core.display.HTML object>"
            ]
          },
          "metadata": {
            "tags": []
          }
        },
        {
          "output_type": "display_data",
          "data": {
            "text/html": [
              "<h2>Basic Human Needs</h2>"
            ],
            "text/plain": [
              "<IPython.core.display.HTML object>"
            ]
          },
          "metadata": {
            "tags": []
          }
        },
        {
          "output_type": "stream",
          "text": [
            " Mean 74.90684523809517 \n",
            " Standard Deviation 18.34200349970229\n"
          ],
          "name": "stdout"
        },
        {
          "output_type": "display_data",
          "data": {
            "text/html": [
              "<hr/>"
            ],
            "text/plain": [
              "<IPython.core.display.HTML object>"
            ]
          },
          "metadata": {
            "tags": []
          }
        },
        {
          "output_type": "display_data",
          "data": {
            "text/html": [
              "<h2>Foundations of Wellbeing</h2>"
            ],
            "text/plain": [
              "<IPython.core.display.HTML object>"
            ]
          },
          "metadata": {
            "tags": []
          }
        },
        {
          "output_type": "stream",
          "text": [
            " Mean 68.32018987341772 \n",
            " Standard Deviation 14.571305694591928\n"
          ],
          "name": "stdout"
        },
        {
          "output_type": "display_data",
          "data": {
            "text/html": [
              "<hr/>"
            ],
            "text/plain": [
              "<IPython.core.display.HTML object>"
            ]
          },
          "metadata": {
            "tags": []
          }
        },
        {
          "output_type": "display_data",
          "data": {
            "text/html": [
              "<h2>Opportunity</h2>"
            ],
            "text/plain": [
              "<IPython.core.display.HTML object>"
            ]
          },
          "metadata": {
            "tags": []
          }
        },
        {
          "output_type": "stream",
          "text": [
            " Mean 52.22958083832334 \n",
            " Standard Deviation 16.414034156572377\n"
          ],
          "name": "stdout"
        }
      ]
    },
    {
      "cell_type": "markdown",
      "metadata": {
        "id": "Tl_mq0mEhDFY"
      },
      "source": [
        "## Exercise\n",
        "\n",
        "Find the deviation for each country with respect to Social Progress Index.\n",
        "\n",
        "For the three countries, Norway, Japan, United States, show their Social Progress Index and their deviation.\n",
        "\n",
        "Ignore members states for which Social Progress Index is given as `NaN`.  Both `mean` and `std` can deal with `NaN` values.  Refer the manual: [mean](http://pandas.pydata.org/pandas-docs/stable/reference/api/pandas.DataFrame.mean.html#pandas.DataFrame.mean), [std](http://pandas.pydata.org/pandas-docs/stable/reference/api/pandas.DataFrame.std.html#pandas.DataFrame.std)  (hint: `skipna`).\n",
        "\n",
        "**Hint**: You may want to use the [merge](http://pandas.pydata.org/pandas-docs/stable/reference/api/pandas.DataFrame.merge.html#pandas.DataFrame.merge) method."
      ]
    },
    {
      "cell_type": "code",
      "metadata": {
        "id": "L2R2JMD6hDFZ",
        "colab": {
          "base_uri": "https://localhost:8080/",
          "height": 142
        },
        "outputId": "eb312423-8b72-4e41-b505-3c4f28f0415b"
      },
      "source": [
        "spi_mean = spi2019[SPI].mean()\r\n",
        "spi_std = spi2019[SPI].std()\r\n",
        "\r\n",
        "deviation = spi2019[SPI].sub(spi_mean).divide(spi_std)\r\n",
        "spi2019[\"SPI Deviation\"] = deviation\r\n",
        "\r\n",
        "mask_JpnNor = (spi2019['Country'] == 'Japan') | (spi2019['Country'] == 'Norway') | (spi2019['Country'] == 'United States')\r\n",
        "display(spi2019[mask_JpnNor][indices[:5] + ['SPI Deviation']])"
      ],
      "execution_count": 68,
      "outputs": [
        {
          "output_type": "display_data",
          "data": {
            "text/html": [
              "<div>\n",
              "<style scoped>\n",
              "    .dataframe tbody tr th:only-of-type {\n",
              "        vertical-align: middle;\n",
              "    }\n",
              "\n",
              "    .dataframe tbody tr th {\n",
              "        vertical-align: top;\n",
              "    }\n",
              "\n",
              "    .dataframe thead th {\n",
              "        text-align: right;\n",
              "    }\n",
              "</style>\n",
              "<table border=\"1\" class=\"dataframe\">\n",
              "  <thead>\n",
              "    <tr style=\"text-align: right;\">\n",
              "      <th></th>\n",
              "      <th>2019 ranking</th>\n",
              "      <th>Country</th>\n",
              "      <th>Code</th>\n",
              "      <th>Status</th>\n",
              "      <th>Social Progress Index</th>\n",
              "      <th>SPI Deviation</th>\n",
              "    </tr>\n",
              "  </thead>\n",
              "  <tbody>\n",
              "    <tr>\n",
              "      <th>70</th>\n",
              "      <td>10.0</td>\n",
              "      <td>Japan</td>\n",
              "      <td>JPN</td>\n",
              "      <td>Ranked</td>\n",
              "      <td>88.34</td>\n",
              "      <td>1.417691</td>\n",
              "    </tr>\n",
              "    <tr>\n",
              "      <th>104</th>\n",
              "      <td>1.0</td>\n",
              "      <td>Norway</td>\n",
              "      <td>NOR</td>\n",
              "      <td>Ranked</td>\n",
              "      <td>90.95</td>\n",
              "      <td>1.582261</td>\n",
              "    </tr>\n",
              "    <tr>\n",
              "      <th>146</th>\n",
              "      <td>26.0</td>\n",
              "      <td>United States</td>\n",
              "      <td>USA</td>\n",
              "      <td>Ranked</td>\n",
              "      <td>83.62</td>\n",
              "      <td>1.120078</td>\n",
              "    </tr>\n",
              "  </tbody>\n",
              "</table>\n",
              "</div>"
            ],
            "text/plain": [
              "     2019 ranking        Country  ... Social Progress Index SPI Deviation\n",
              "70           10.0          Japan  ...                 88.34      1.417691\n",
              "104           1.0         Norway  ...                 90.95      1.582261\n",
              "146          26.0  United States  ...                 83.62      1.120078\n",
              "\n",
              "[3 rows x 6 columns]"
            ]
          },
          "metadata": {
            "tags": []
          }
        }
      ]
    }
  ]
}